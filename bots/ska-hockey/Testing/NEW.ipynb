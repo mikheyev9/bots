{
 "cells": [
  {
   "cell_type": "code",
   "execution_count": 1,
   "metadata": {},
   "outputs": [],
   "source": [
    "import aiohttp\n",
    "import asyncio\n",
    "from aiohttp import BasicAuth\n",
    "from bs4 import BeautifulSoup\n",
    "from aiohttp.client_exceptions import ContentTypeError\n",
    "from urllib.parse import urlencode\n",
    "import re\n",
    "import json\n"
   ]
  },
  {
   "cell_type": "code",
   "execution_count": 77,
   "metadata": {},
   "outputs": [],
   "source": [
    "class User:\n",
    "    def __init__(self, proxy:str, account:dict):\n",
    "        ''' Аналог личного кабинета на сайте https://pass.ska.ru/\n",
    "        В данный момент 1 юзер может купить 5 билетов\n",
    "\n",
    "        Пример использования \n",
    "        1)Инициализация класса\"\n",
    "                proxy = \"94.137.90.59:50100@mikheyev9:aXUbosImHR\"\n",
    "                account = {'login':'mikheyev9@gmail.com',\n",
    "                           'password': 'Ai5F,;baB:rVf!8'} \n",
    "                user_1 = User(proxy=proxy,\n",
    "                              account = account)\n",
    "\n",
    "        2)Cоздать сессию \n",
    "                status_code = await user_1.make_session()\n",
    "\n",
    "        3)Если status_code == 200:\n",
    "            аутентифицировать пользователя:\n",
    "                auth_status = await user_1.auth()\n",
    "\n",
    "        4)Если auth_status == True:\n",
    "            Добавить билеты в корзину:\n",
    "                event_id = '1933'\n",
    "                ticket_info = {'categoryId': '1',\n",
    "                                'id': '572366',\n",
    "                                'name': 'Сектор 615 Ряд 15 Место 118',\n",
    "                                'orderId': '',\n",
    "                                'price': '550.00',\n",
    "                                'quant': '1'}\n",
    "                post_status = await user_1.put_ticket_to_cart(event_id=event_id, \n",
    "                                                              ticket_info=ticket_info)\n",
    "\n",
    "        5)При необходимости посмотреть какие билеты уже в корзине:\n",
    "                print(self.all_tickets)\n",
    "\n",
    "        6)Если в корзине есть билеты выводим на оплату:\n",
    "                event_id = '1933'\n",
    "                url_for_payment, account = await x.pay_tickets_from_cart(event_id)\n",
    "                Получаем ссылка на оплату и аккуант                                                      \n",
    "            \n",
    "\n",
    "        *)async def make_session - создать сессию, вернет cатус код запроса на создание\n",
    "        *)async def auth - аутентификация юзера если все ок вернет True иначе False\n",
    "        *)async def close_session - закрыть сессию\n",
    "        *)async def put_ticket_to_cart(event_id:ид мероприятия, ticket_info:билет)\n",
    "            положить в корзину билет вернет True если OK иначе False\n",
    "\n",
    "        *)async def pay_tickets_from_cart(event_id:ид мероприятия) - бронирование билетов в системе и\n",
    "            создание ссылки на оплату. Вернет url оплаты и данные пользователя self.account если ОК,\n",
    "            иначе raise AssertionError\n",
    "        '''\n",
    "\n",
    "        self.proxy_url, self.proxy_auth = self.make_proxy(proxy)\n",
    "        self.proxy_status = None\n",
    "        self.auth_status = None\n",
    "        self.session = None\n",
    "        self.cookies = {}\n",
    "\n",
    "        self.account = account\n",
    "        self.all_tickets = []\n",
    "\n",
    "        self.headers_post =  {\n",
    "            \"accept\": \"text/html,application/xhtml+xml,application/xml;q=0.9,image/avif,image/webp,image/apng,*/*;q=0.8,application/signed-exchange;v=b3;q=0.7\",\n",
    "            \"accept-language\": \"en-US,en;q=0.9,ru;q=0.8\",\n",
    "            \"cache-control\": \"max-age=0\",\n",
    "            \"content-type\": \"application/x-www-form-urlencoded\",\n",
    "            \"sec-ch-ua\": \"\\\"Not_A Brand\\\";v=\\\"8\\\", \\\"Chromium\\\";v=\\\"120\\\", \\\"Google Chrome\\\";v=\\\"120\\\"\",\n",
    "            \"sec-ch-ua-mobile\": \"?0\",\n",
    "            \"sec-ch-ua-platform\": \"\\\"Linux\\\"\",\n",
    "            \"sec-fetch-dest\": \"document\",\n",
    "            \"sec-fetch-mode\": \"navigate\",\n",
    "            \"sec-fetch-site\": \"same-origin\",\n",
    "            \"sec-fetch-user\": \"?1\",\n",
    "            \"upgrade-insecure-requests\": \"1\",\n",
    "            \"Referer\": \"https://pass.ska.ru/en/auth/?back_domain=tickets&back_url=%2F\",\n",
    "            \"Referrer-Policy\": \"strict-origin-when-cross-origin\",\n",
    "            \"User-Agent\":\"Mozilla/5.0 (X11; Linux x86_64) AppleWebKit/537.36 (KHTML, like Gecko) Chrome/120.0.0.0 Safari/537.36\"\n",
    "        }\n",
    "\n",
    "    @staticmethod\n",
    "    def make_proxy(proxy:str) -> tuple[str, BasicAuth]:\n",
    "        #proxy = \"94.137.90.59:50100@mikheyev9:aXUbosImHR\"\n",
    "        domain, user_info = proxy.split('@')\n",
    "        proxy_url = f'http://{domain}'\n",
    "        proxy_login, proxy_password = user_info.split(':')\n",
    "        proxy_auth = BasicAuth(login=proxy_login, password=proxy_password)\n",
    "        return proxy_url, proxy_auth\n",
    "\n",
    "    async def _init_session(self) -> None:\n",
    "        if not self.session:\n",
    "            self.session = aiohttp.ClientSession()\n",
    "\n",
    "    async def close_session(self) -> None:\n",
    "        if self.session:\n",
    "            await self.session.close()\n",
    "            self.session = None\n",
    "\n",
    "\n",
    "    async def make_session(self) -> str:\n",
    "        '''Инициализация сессии и проверка доступности прокси,\n",
    "           Если все ок, self.proxy_status == 200\n",
    "        '''\n",
    "\n",
    "        await self._init_session()\n",
    "        headers = {\n",
    "            \"accept\": \"text/html,application/xhtml+xml,application/xml;q=0.9,image/avif,image/webp,image/apng,*/*;q=0.8,application/signed-exchange;v=b3;q=0.7\",\n",
    "            \"accept-language\": \"en-US,en;q=0.9,ru;q=0.8\",\n",
    "            \"sec-ch-ua\": \"\\\"Not_A Brand\\\";v=\\\"8\\\", \\\"Chromium\\\";v=\\\"120\\\", \\\"Google Chrome\\\";v=\\\"120\\\"\",\n",
    "            \"sec-ch-ua-mobile\": \"?0\",\n",
    "            \"sec-ch-ua-platform\": \"\\\"Linux\\\"\",\n",
    "            \"sec-fetch-dest\": \"document\",\n",
    "            \"sec-fetch-mode\": \"navigate\",\n",
    "            \"sec-fetch-site\": \"same-site\",\n",
    "            \"sec-fetch-user\": \"?1\",\n",
    "            \"upgrade-insecure-requests\": \"1\",\n",
    "            \"Referer\": \"https://tickets.ska.ru/\",\n",
    "            \"Referrer-Policy\": \"strict-origin-when-cross-origin\",\n",
    "            \"User-Agent\":\"Mozilla/5.0 (X11; Linux x86_64) AppleWebKit/537.36 (KHTML, like Gecko) Chrome/120.0.0.0 Safari/537.36\"\n",
    "        }\n",
    "        url = 'https://pass.ska.ru/en/auth/?back_domain=tickets&back_url=%2F'\n",
    "        \n",
    "        async with self.session.get(url, headers=headers,\n",
    "                                    proxy=self.proxy_url,\n",
    "                                    proxy_auth=self.proxy_auth) as response:\n",
    "            text = await response.text()\n",
    "            self.CSRF = self._find_csrf(text)\n",
    "            self.proxy_status = response.status\n",
    "            print(self.CSRF, 'CSRF token')\n",
    "            return response.status\n",
    "    \n",
    "    @staticmethod\n",
    "    def _find_csrf(text):\n",
    "        soup = BeautifulSoup(text, 'lxml')\n",
    "        meta = soup.find('meta', attrs={'name':'csrf-token'})\n",
    "        return meta.get('content')\n",
    "    \n",
    "    async def auth(self) -> bool:\n",
    "        '''Авторизация пользователя в ситсеме покупки билетов\n",
    "            Если все ок, self.auth_status == True\n",
    "\n",
    "            self.account = { 'login': 'mikheyev9@gmail.com',\n",
    "                            'password': 'Ai5F,;baB:rVf!8' }\n",
    "        '''\n",
    "\n",
    "        login = self.account['login']\n",
    "        password = self.account['password']\n",
    "        data = {\n",
    "            '_csrf': self.CSRF,\n",
    "            'login': login,\n",
    "            'password': password,\n",
    "            'auth_type': 'email',\n",
    "            'send_submit': 'Y'\n",
    "        }\n",
    "        async with self.session.post(url='https://pass.ska.ru/en/auth/', \n",
    "                                     proxy=self.proxy_url,\n",
    "                                     proxy_auth=self.proxy_auth,\n",
    "                                     headers=self.headers_post, data=data) as response:\n",
    "            if response.status == 200:\n",
    "                self.auth_status = True\n",
    "                print(response, self.auth_status, 'self.auth_status')\n",
    "                return True\n",
    "            return False\n",
    "\n",
    "\n",
    "    async def put_ticket_to_cart(self, event_id:str, ticket_info:dict) -> bool:\n",
    "        '''Положить билет в корзину пользователя\n",
    "            Если все ок вернет True иначе False\n",
    "        '''\n",
    "\n",
    "        ticket = {\n",
    "            'operation': 'add',\n",
    "            'id': ticket_info['id'],\n",
    "            'categoryId': ticket_info['categoryId'],\n",
    "            'name': ticket_info['name'],\n",
    "            'quant': ticket_info['quant'],\n",
    "            'price': ticket_info['price'],\n",
    "            'orderId': ''\n",
    "        }\n",
    "\n",
    "        async with self.session.post(url=f'https://tickets.ska.ru/cart/{event_id}', \n",
    "                                     headers=self.headers_post,\n",
    "                                     proxy=self.proxy_url,\n",
    "                                     proxy_auth=self.proxy_auth, \n",
    "                                     data=ticket) as response:\n",
    "            try:\n",
    "                response = await response.json()\n",
    "            except ContentTypeError:\n",
    "                return False\n",
    "            if response.get('result', False) == True:\n",
    "                self.all_tickets = response.get('list')\n",
    "                return True\n",
    "            elif response.get('result') == False:\n",
    "                self.all_tickets = response.get('list')\n",
    "                return False\n",
    "            raise AssertionError(f'https://tickets.ska.ru/cart/{event_id} something went wrong')\n",
    "    \n",
    "    async def _create_order_to_pay(self, event_id:str) -> str | bool:\n",
    "        '''Предварительный запрос на оплату\n",
    "           Если все ок вернет id созданного платежа в их(СКА) системе\n",
    "           Если нет вернет False'''\n",
    "\n",
    "        pay_method = {'card': 'other'}\n",
    "        async with self.session.post(url=f'https://tickets.ska.ru/create-order/{event_id}', \n",
    "                                    proxy=self.proxy_url,\n",
    "                                    proxy_auth=self.proxy_auth,\n",
    "                                    headers=self.headers_post,\n",
    "                                    data=pay_method) as response:\n",
    "            try:\n",
    "                json = await response.json()\n",
    "            except ContentTypeError:\n",
    "                return False\n",
    "            if json.get('result'):\n",
    "                return json['order']\n",
    "            return False\n",
    "\n",
    "    async def pay_tickets_from_cart(self, event_id:str) -> AssertionError | tuple[str, dict]:\n",
    "            '''Создание запроса на оплату и получение ссылки от эквайринга\n",
    "            '''\n",
    "            \n",
    "            create_order = await self._create_order_to_pay(event_id)\n",
    "            if not create_order:\n",
    "                raise AssertionError(f\"Cannot pay this tickets {self.all_tickets}\")\n",
    "            pay_method = {'card': 'other'}\n",
    "\n",
    "            async with self.session.post(url=f'https://tickets.ska.ru/pay-order/{create_order}', \n",
    "                                    proxy=self.proxy_url,\n",
    "                                    proxy_auth=self.proxy_auth,\n",
    "                                    headers=self.headers_post,\n",
    "                                    data=pay_method) as response:\n",
    "                \n",
    "                text = await response.text()\n",
    "                with open('TEST.html', 'w', encoding='utf-8') as f:\n",
    "                    f.write(text)\n",
    "                soup = BeautifulSoup(text, 'lxml')\n",
    "                form_gazprombank = soup.find('form', attrs={'action':\"https://www.pga.gazprombank.ru:443/pages/\"})\n",
    "                lang = form_gazprombank.find('input', attrs={'name':'lang'}).get('value')\n",
    "                merch_id = form_gazprombank.find('input', attrs={'name':'merch_id'}).get('value')\n",
    "                back_url_s = form_gazprombank.find('input', attrs={'name':'back_url_s'}).get('value')\n",
    "                back_url_f = form_gazprombank.find('input', attrs={'name':'back_url_f'}).get('value')\n",
    "                order_id = form_gazprombank.find('input', attrs={'name':'o.order_id'}).get('value')\n",
    "                tickets_count = form_gazprombank.find('input', attrs={'name':'o.tickets_count'}).get('value')\n",
    "                action_id = form_gazprombank.find('input', attrs={'name':'o.action_id'}).get('value')\n",
    "                SUBMIT = form_gazprombank.find('input', attrs={'name':'SUBMIT'}).get('value')\n",
    "                \n",
    "                \n",
    "\n",
    "                url = \"https://www.pga.gazprombank.ru:443/pages/\"\n",
    "                params = {\n",
    "                    \"lang\": lang,\n",
    "                    \"merch_id\": merch_id,\n",
    "                    \"back_url_s\": back_url_s,\n",
    "                    \"back_url_f\": back_url_f,\n",
    "                    \"o.order_id\": order_id,\n",
    "                    \"o.tickets_count\": tickets_count,\n",
    "                    \"o.action_id\": action_id,\n",
    "                    \"SUBMIT\": SUBMIT\n",
    "                }\n",
    "                encoded_params = urlencode(params)\n",
    "                full_url = f\"https://www.pga.gazprombank.ru:443/pages/?{encoded_params}\"\n",
    "\n",
    "                return full_url, self.account"
   ]
  },
  {
   "cell_type": "code",
   "execution_count": 78,
   "metadata": {},
   "outputs": [],
   "source": [
    "async def main():\n",
    "    proxy = \"94.137.90.59:50100@mikheyev9:aXUbosImHR\"\n",
    "    account = { 'login': 'mikheyev9@gmail.com',\n",
    "                'password': 'Ai5F,;baB:rVf!8' }\n",
    "    x = User(proxy, account)\n",
    "    check_proxy = await x.make_session()\n",
    "    print(check_proxy)  # Выведет статус ответа\n",
    "    return x"
   ]
  },
  {
   "cell_type": "code",
   "execution_count": 79,
   "metadata": {},
   "outputs": [
    {
     "name": "stderr",
     "output_type": "stream",
     "text": [
      "Unclosed client session\n",
      "client_session: <aiohttp.client.ClientSession object at 0x7f04f8761610>\n"
     ]
    },
    {
     "name": "stdout",
     "output_type": "stream",
     "text": [
      "czcKSJkI3DOT1yrTtYuj0jLWjTMv4FhcHZBjEHzelXQJcVgBylmrZaKBY5Hw_s3geZ77UUe3LQZk-DImBIrXIg== CSRF token\n",
      "200\n"
     ]
    }
   ],
   "source": [
    "x = await main()"
   ]
  },
  {
   "cell_type": "code",
   "execution_count": 80,
   "metadata": {},
   "outputs": [
    {
     "name": "stdout",
     "output_type": "stream",
     "text": [
      "<ClientResponse(https://tickets.ska.ru/) [200 OK]>\n",
      "<CIMultiDictProxy('Server': 'nginx', 'Date': 'Sun, 18 Feb 2024 15:07:19 GMT', 'Content-Type': 'text/html; charset=UTF-8', 'Transfer-Encoding': 'chunked', 'Connection': 'keep-alive', 'Vary': 'Accept-Encoding', 'Set-Cookie': 'SKA_SESSION=j2t3op7fpa4js0o8qsclps0i61; expires=Mon, 19-Feb-2024 15:07:15 GMT; Max-Age=86400; path=/', 'Expires': 'Thu, 19 Nov 1981 08:52:00 GMT', 'Cache-Control': 'no-store, no-cache, must-revalidate, post-check=0, pre-check=0', 'Pragma': 'no-cache', 'Strict-Transport-Security': 'max-age=31536000;', 'Content-Encoding': 'gzip')>\n",
      " True self.auth_status\n"
     ]
    }
   ],
   "source": [
    "await x.auth()"
   ]
  },
  {
   "cell_type": "code",
   "execution_count": 81,
   "metadata": {},
   "outputs": [
    {
     "data": {
      "text/plain": [
       "True"
      ]
     },
     "execution_count": 81,
     "metadata": {},
     "output_type": "execute_result"
    }
   ],
   "source": [
    "tik = {   'categoryId': '1',\n",
    "    'id': '572366',\n",
    "    'name': 'Сектор 615 Ряд 15 Место 118',\n",
    "    'orderId': '',\n",
    "    'price': '550.00',\n",
    "    'quant': '1'}\n",
    "await x.put_ticket_to_cart('1933', tik)"
   ]
  },
  {
   "cell_type": "code",
   "execution_count": 82,
   "metadata": {},
   "outputs": [
    {
     "name": "stdout",
     "output_type": "stream",
     "text": [
      "[{'id': '572366', 'categoryId': '1', 'name': 'Сектор 615 Ряд 15 Место 118', 'quant': '1', 'price': '550.00', 'type': 0, 'orderId': ''}]\n",
      "1\n"
     ]
    }
   ],
   "source": [
    "\n",
    "print(x.all_tickets)\n",
    "print(len(x.all_tickets))\n"
   ]
  },
  {
   "cell_type": "code",
   "execution_count": 83,
   "metadata": {},
   "outputs": [],
   "source": [
    "res = await x.pay_tickets_from_cart('1933')"
   ]
  },
  {
   "cell_type": "code",
   "execution_count": 84,
   "metadata": {},
   "outputs": [
    {
     "name": "stdout",
     "output_type": "stream",
     "text": [
      "https://www.pga.gazprombank.ru:443/pages/?lang=ru&merch_id=GX7UWIRPT48ZMJE576NTKMP0ZI8TGS8U&back_url_s=https%3A%2F%2Ftickets.ska.ru%2Fpersonal-thank-you%2F1659963&back_url_f=https%3A%2F%2Ftickets.ska.ru%2Fview-orders-list&o.order_id=1659963&o.tickets_count=1&o.action_id=1933&SUBMIT=%D0%9F%D0%B5%D1%80%D0%B5%D0%B9%D1%82%D0%B8+%D0%BA+%D0%BE%D0%BF%D0%BB%D0%B0%D1%82%D0%B5\n"
     ]
    }
   ],
   "source": [
    "print(res)"
   ]
  },
  {
   "cell_type": "code",
   "execution_count": 2,
   "metadata": {},
   "outputs": [],
   "source": [
    "###\n",
    "headers = {\n",
    "            'accept': 'text/html,application/xhtml+xml,application/xml;q=0.9,image/avif,image/webp,image/apng,*/*;q=0.8,application/signed-exchange;v=b3;q=0.9',\n",
    "            'accept-encoding': 'gzip, deflate, br',\n",
    "            'accept-language': 'ru,en;q=0.9',\n",
    "            'cache-control': 'max-age=0',\n",
    "            'connection': 'keep-alive',\n",
    "            'host': 'tickets.ska.ru',\n",
    "            \"sec-ch-ua\": \"\\\"Not_A Brand\\\";v=\\\"8\\\", \\\"Chromium\\\";v=\\\"120\\\", \\\"Google Chrome\\\";v=\\\"120\\\"\",\n",
    "            'sec-ch-ua-mobile': '?0',\n",
    "            \"sec-ch-ua-platform\": \"\\\"Linux\\\"\",\n",
    "            'sec-fetch-dest': 'document',\n",
    "            'sec-fetch-mode': 'navigate',\n",
    "            'sec-fetch-site': 'none',\n",
    "            'sec-fetch-user': '?1',\n",
    "            'upgrade-insecure-requests': '1',\n",
    "            \"User-Agent\":\"Mozilla/5.0 (X11; Linux x86_64) AppleWebKit/537.36 (KHTML, like Gecko) Chrome/120.0.0.0 Safari/537.36\"\n",
    "        }\n",
    "url = 'https://tickets.ska.ru/view-available-zones/1933'\n",
    "async with aiohttp.ClientSession() as session:\n",
    "    async with session.get(url, headers=headers) as response:\n",
    "        text = await response.text()\n",
    "        soup = BeautifulSoup(text, 'lxml')\n",
    "\n",
    "        total_sector = []\n",
    "\n",
    "        text_js = soup.find('div', class_='wrp-main').find('script').text\n",
    "        no_render_data = text_js[text_js.index('['):text_js.index('];')+1]\n",
    "        dict_data = eval(no_render_data.replace('null', 'None'))\n",
    "\n",
    "        all_sectors_structure = {}\n",
    "\n",
    "        for sectors in dict_data:\n",
    "                sector = sectors.get('name')\n",
    "                if sector:\n",
    "                    sector_id = sectors.get('id')\n",
    "                    url_split = url.split(\"/\")\n",
    "                    url_sector = f'seats-list/{url_split[-1]}/{sector_id}'\n",
    "                    url_to_sector = '/'.join(url_split[:-2]) + '/' + url_sector\n",
    "                    sectors.update({'url':url_to_sector})\n",
    "                    all_sectors_structure.setdefault(sector, {}).update({\n",
    "                                                            'url':url_to_sector\n",
    "                                                            })\n",
    "                    #print(url_to_sector)"
   ]
  },
  {
   "cell_type": "code",
   "execution_count": null,
   "metadata": {},
   "outputs": [],
   "source": []
  },
  {
   "cell_type": "code",
   "execution_count": 3,
   "metadata": {},
   "outputs": [
    {
     "name": "stdout",
     "output_type": "stream",
     "text": [
      "[{'id': '560617', 'name': 304, 'quant': '7', 'zoneId': '-99999', 'zoneTypeId': '100', 'price': [1400, 3400], 'url': 'https://tickets.ska.ru/seats-list/1933/560617'}, {'id': '560734', 'name': 305, 'quant': '45', 'zoneId': '-99999', 'zoneTypeId': '100', 'price': [1400, 3400], 'url': 'https://tickets.ska.ru/seats-list/1933/560734'}, {'id': '560955', 'name': 'Ресторан 4 этаж', 'quant': '68', 'zoneId': '328', 'zoneTypeId': '110', 'price': [2400, 2400], 'url': 'https://tickets.ska.ru/seats-list/1933/560955'}]\n"
     ]
    }
   ],
   "source": [
    "print(dict_data)"
   ]
  },
  {
   "cell_type": "code",
   "execution_count": 4,
   "metadata": {},
   "outputs": [
    {
     "data": {
      "text/plain": [
       "{304: {'url': 'https://tickets.ska.ru/seats-list/1933/560617'},\n",
       " 305: {'url': 'https://tickets.ska.ru/seats-list/1933/560734'},\n",
       " 'Ресторан 4 этаж': {'url': 'https://tickets.ska.ru/seats-list/1933/560955'}}"
      ]
     },
     "execution_count": 4,
     "metadata": {},
     "output_type": "execute_result"
    }
   ],
   "source": [
    "all_sectors_structure"
   ]
  },
  {
   "cell_type": "code",
   "execution_count": 22,
   "metadata": {},
   "outputs": [
    {
     "name": "stdout",
     "output_type": "stream",
     "text": [
      "('304', '22', '107')\n",
      "('304', '23', '6')\n",
      "('304', '23', '10')\n",
      "('304', '24', '10')\n",
      "('304', '24', '106')\n",
      "('304', '25', '3')\n",
      "('304', '25', '110')\n"
     ]
    }
   ],
   "source": [
    "all_prices_id = {}\n",
    "def parsing_seat(seat_name):\n",
    "    #Сектор 304 Ряд 22 Место 107\n",
    "    if not all(i in seat_name  for i in ('Сектор', 'Ряд', 'Место')):\n",
    "        return False\n",
    "    sector = re.search(r'(?<=Сектор) *\\d+', seat_name)[0].strip()\n",
    "    row = re.search(r'(?<=Ряд) *\\d+', seat_name)[0].strip()\n",
    "    place = re.search(r'(?<=Место) *\\d+', seat_name)[0].strip()\n",
    "    return sector, row, place\n",
    "    \n",
    "async with aiohttp.ClientSession() as session:\n",
    "    async with session.get('https://tickets.ska.ru/seats-list/1933/560617', headers=headers) as response:\n",
    "        json = await response.json()\n",
    "        prices = json.get('prices')\n",
    "        for price in prices:\n",
    "            all_prices_id.setdefault(price[\"categoryId\"], {}).update({\n",
    "                price[\"pricezoneId\"]: price['value']\n",
    "            })\n",
    "\n",
    "        # ticket_info = {'categoryId': '1',\n",
    "        #                         'id': '572366',\n",
    "        #                         'name': 'Сектор 615 Ряд 15 Место 118',\n",
    "        #                         'orderId': '',\n",
    "        #                         'price': '550.00',\n",
    "        #                         'quant': '1'}\n",
    "\n",
    "        all_tickets_structure = {}\n",
    "        seats = json.get('seats')\n",
    "        if len(seats) <= 0:\n",
    "            print(False)\n",
    "        first_blood = 1 # При первом проходе очищаются все места для этого сектора, чтобы обновить информацию о наличии\n",
    "        for seat in seats:\n",
    "            categoryId = seat.get('quant')\n",
    "            id = seat.get('id')\n",
    "            name = seat.get('name')\n",
    "            price_zone = seat.get('pricezoneId')\n",
    "            price = all_prices_id[categoryId].get(price_zone)\n",
    "            sector_row_place = parsing_seat(name)\n",
    "            if sector_row_place:\n",
    "                sector, row, place = sector_row_place\n",
    "                all_tickets_structure.setdefault(sector, {})\n",
    "                if first_blood:\n",
    "                    all_tickets_structure[sector] = {row: {}}\n",
    "                    first_blood = 0\n",
    "                else:\n",
    "                    all_tickets_structure[sector].setdefault(row, {})\n",
    "                all_tickets_structure[sector][row].setdefault(place, {}).update({\n",
    "                                'categoryId': categoryId,\n",
    "                                'id': id,\n",
    "                                'name': name,\n",
    "                                'orderId': '',\n",
    "                                'price': price,\n",
    "                                'quant': '1'\n",
    "                })\n",
    "            print(sector_row_place)\n",
    "            \n",
    "        "
   ]
  },
  {
   "cell_type": "code",
   "execution_count": 20,
   "metadata": {},
   "outputs": [
    {
     "name": "stdout",
     "output_type": "stream",
     "text": [
      "{'1': {'326': '3400.00', '408': '1400.00'}}\n"
     ]
    }
   ],
   "source": [
    "print(all_prices_id)"
   ]
  },
  {
   "cell_type": "code",
   "execution_count": 23,
   "metadata": {},
   "outputs": [
    {
     "name": "stdout",
     "output_type": "stream",
     "text": [
      "{'304': {'22': {'107': {'categoryId': '1', 'id': '560647', 'name': 'Сектор 304 Ряд 22 Место 107', 'orderId': '', 'price': '3400.00', 'quant': '1'}}, '23': {'6': {'categoryId': '1', 'id': '560657', 'name': 'Сектор 304 Ряд 23 Место 6', 'orderId': '', 'price': '1400.00', 'quant': '1'}, '10': {'categoryId': '1', 'id': '560661', 'name': 'Сектор 304 Ряд 23 Место 10', 'orderId': '', 'price': '3400.00', 'quant': '1'}}, '24': {'10': {'categoryId': '1', 'id': '560686', 'name': 'Сектор 304 Ряд 24 Место 10', 'orderId': '', 'price': '3400.00', 'quant': '1'}, '106': {'categoryId': '1', 'id': '560696', 'name': 'Сектор 304 Ряд 24 Место 106', 'orderId': '', 'price': '3400.00', 'quant': '1'}}, '25': {'3': {'categoryId': '1', 'id': '560704', 'name': 'Сектор 304 Ряд 25 Место 3', 'orderId': '', 'price': '1400.00', 'quant': '1'}, '110': {'categoryId': '1', 'id': '560725', 'name': 'Сектор 304 Ряд 25 Место 110', 'orderId': '', 'price': '3400.00', 'quant': '1'}}}}\n"
     ]
    }
   ],
   "source": [
    "print(all_tickets_structure)"
   ]
  },
  {
   "cell_type": "code",
   "execution_count": 81,
   "metadata": {},
   "outputs": [],
   "source": [
    "###########\n",
    "class Tickets:\n",
    "    def __init__(self, url):\n",
    "        self.url = url #'https://tickets.ska.ru/view-available-zones/1928'\n",
    "\n",
    "        self.all_free_sectors = []\n",
    "        self.all_tickets_structure = {}\n",
    "        self.all_prices_id = {}\n",
    "\n",
    "        self.headers = {\n",
    "            'accept': 'text/html,application/xhtml+xml,application/xml;q=0.9,image/avif,image/webp,image/apng,*/*;q=0.8,application/signed-exchange;v=b3;q=0.9',\n",
    "            'accept-encoding': 'gzip, deflate, br',\n",
    "            'accept-language': 'ru,en;q=0.9',\n",
    "            'cache-control': 'max-age=0',\n",
    "            'connection': 'keep-alive',\n",
    "            'host': 'tickets.ska.ru',\n",
    "            \"sec-ch-ua\": \"\\\"Not_A Brand\\\";v=\\\"8\\\", \\\"Chromium\\\";v=\\\"120\\\", \\\"Google Chrome\\\";v=\\\"120\\\"\",\n",
    "            'sec-ch-ua-mobile': '?0',\n",
    "            \"sec-ch-ua-platform\": \"\\\"Linux\\\"\",\n",
    "            'sec-fetch-dest': 'document',\n",
    "            'sec-fetch-mode': 'navigate',\n",
    "            'sec-fetch-site': 'none',\n",
    "            'sec-fetch-user': '?1',\n",
    "            'upgrade-insecure-requests': '1',\n",
    "            \"User-Agent\":\"Mozilla/5.0 (X11; Linux x86_64) AppleWebKit/537.36 (KHTML, like Gecko) Chrome/120.0.0.0 Safari/537.36\"\n",
    "        }\n",
    "        \n",
    "        \n",
    "    async def update_all_free_sectors(self):\n",
    "        async with aiohttp.ClientSession() as session:\n",
    "            async with session.get(self.url, headers=self.headers) as response:\n",
    "                text = await response.text()\n",
    "                soup = BeautifulSoup(text, 'lxml')\n",
    "\n",
    "                text_js = soup.find('div', class_='wrp-main').find('script').text\n",
    "                no_render_data = text_js[text_js.index('['):text_js.index('];')+1]\n",
    "                dict_data = eval(no_render_data.replace('null', 'None'))\n",
    "                #dict_data=[{'id': '560617', 'name': 304, 'quant': '31', 'zoneId': '-99999', 'zoneTypeId': '100',\n",
    "                #           'price': [1200, 2400], 'url': 'https://tickets.ska.ru/seats-list/1928/560617'}, ... ]\n",
    "\n",
    "                all_sectors_structure = {}\n",
    "\n",
    "                for sectors in dict_data:\n",
    "                        sector = sectors.get('name')\n",
    "                        if sector:\n",
    "                            sector_id = sectors.get('id')\n",
    "                            url_split = url.split(\"/\")\n",
    "                            url_sector = f'seats-list/{url_split[-1]}/{sector_id}'\n",
    "                            url_to_sector = '/'.join(url_split[:-2]) + '/' + url_sector\n",
    "                            sectors.update({'url':url_to_sector})\n",
    "                            #print(url_to_sector)\n",
    "\n",
    "                            all_sectors_structure.setdefault(str(sector), {}).update({\n",
    "                                                            'url':url_to_sector\n",
    "                                                            })\n",
    "\n",
    "                self.all_free_sectors = all_sectors_structure\n",
    "                return dict_data\n",
    "    \n",
    "    async def update_rows_seats_in_sector(self, sector_name: str):\n",
    "        if sector_name not in self.all_free_sectors:\n",
    "            await self.update_all_free_sectors()\n",
    "            #print(self.all_free_sectors, 'all_free_sectors')\n",
    "            if sector_name not in self.all_free_sectors:\n",
    "                self.all_tickets_structure[sector_name] = {}\n",
    "                print(f\"Sector:{sector_name} isnt availible\")\n",
    "                return False\n",
    "            \n",
    "        url = self.all_free_sectors[sector_name]['url']\n",
    "        async with aiohttp.ClientSession() as session:\n",
    "            async with session.get(url, headers=self.headers) as response:\n",
    "                json = await response.json()\n",
    "                prices = json.get('prices')\n",
    "                for price in prices:\n",
    "                    self.all_prices_id.setdefault(price[\"categoryId\"], {}).update({\n",
    "                        price[\"pricezoneId\"]: price['value']\n",
    "                    })\n",
    "\n",
    "                seats = json.get('seats')\n",
    "                if len(seats) <= 0:\n",
    "                    return False\n",
    "                first_blood = 1 # При первом проходе очищаются все места для этого сектора, чтобы обновить информацию о наличии\n",
    "                for seat in seats:\n",
    "                    categoryId = seat.get('quant')\n",
    "                    id = seat.get('id')\n",
    "                    name = seat.get('name')\n",
    "                    price_zone = seat.get('pricezoneId')\n",
    "                    price = self.all_prices_id[categoryId].get(price_zone)\n",
    "                    sector_row_place = self.parsing_seat(name)\n",
    "                    if sector_row_place:\n",
    "                        sector, row, place = sector_row_place\n",
    "                        self.all_tickets_structure.setdefault(sector, {})\n",
    "                        if first_blood:\n",
    "                            self.all_tickets_structure[sector] = {row: {}}\n",
    "                            first_blood = 0\n",
    "                        else:\n",
    "                            self.all_tickets_structure[sector].setdefault(row, {})\n",
    "                        self.all_tickets_structure[sector][row].setdefault(place, {}).update({\n",
    "                                        'categoryId': categoryId,\n",
    "                                        'id': id,\n",
    "                                        'name': name,\n",
    "                                        'orderId': '',\n",
    "                                        'price': price,\n",
    "                                        'quant': '1'\n",
    "                        })\n",
    "        return True\n",
    "                    \n",
    "\n",
    "    @staticmethod   \n",
    "    def parsing_seat(seat_name):\n",
    "        #Сектор 304 Ряд 22 Место 107\n",
    "        if not all(i in seat_name  for i in ('Сектор', 'Ряд', 'Место')):\n",
    "            return False\n",
    "        sector = re.search(r'(?<=Сектор) *\\d+', seat_name)[0].strip()\n",
    "        row = re.search(r'(?<=Ряд) *\\d+', seat_name)[0].strip()\n",
    "        place = re.search(r'(?<=Место) *\\d+', seat_name)[0].strip()\n",
    "        return sector, row, place         \n",
    "\n",
    "        \n",
    "    async def find_place_in_sector(self, sector, row, place):\n",
    "        update_sector = await self.update_rows_seats_in_sector(sector)\n",
    "        if not update_sector:\n",
    "            return False\n",
    "        if sector in self.all_tickets_structure:\n",
    "            all_rows = [ i for i in self.all_tickets_structure.get(sector, {})]\n",
    "            if row in all_rows:\n",
    "                all_seats = [ i for i in self.all_tickets_structure[sector].get(row, {})]\n",
    "                if place in all_seats:\n",
    "                    return self.all_tickets_structure[sector][row].get(place)\n",
    "        return False\n",
    "\n"
   ]
  },
  {
   "cell_type": "code",
   "execution_count": 82,
   "metadata": {},
   "outputs": [],
   "source": [
    "x = Tickets('https://tickets.ska.ru/view-available-zones/1933')"
   ]
  },
  {
   "cell_type": "code",
   "execution_count": 84,
   "metadata": {},
   "outputs": [
    {
     "name": "stdout",
     "output_type": "stream",
     "text": [
      "{'304': {'url': 'https://tickets.ska.ru/seats-list/1933/560617'}, '305': {'url': 'https://tickets.ska.ru/seats-list/1933/560734'}, 'Ресторан 4 этаж': {'url': 'https://tickets.ska.ru/seats-list/1933/560955'}}\n"
     ]
    }
   ],
   "source": [
    "print(x.all_free_sectors)"
   ]
  },
  {
   "cell_type": "code",
   "execution_count": 83,
   "metadata": {},
   "outputs": [],
   "source": [
    "res = await x.update_rows_seats_in_sector('304')"
   ]
  },
  {
   "cell_type": "code",
   "execution_count": 85,
   "metadata": {},
   "outputs": [
    {
     "name": "stdout",
     "output_type": "stream",
     "text": [
      "{'6': {'categoryId': '1', 'id': '560657', 'name': 'Сектор 304 Ряд 23 Место 6', 'orderId': '', 'price': '1400.00', 'quant': '1'}, '10': {'categoryId': '1', 'id': '560661', 'name': 'Сектор 304 Ряд 23 Место 10', 'orderId': '', 'price': '3400.00', 'quant': '1'}}\n"
     ]
    }
   ],
   "source": [
    "print(x.all_tickets_structure['304']['23'])"
   ]
  },
  {
   "cell_type": "code",
   "execution_count": 94,
   "metadata": {},
   "outputs": [],
   "source": [
    "place_1 = await x.find_place_in_sector('304', '23', '61')"
   ]
  },
  {
   "cell_type": "code",
   "execution_count": 93,
   "metadata": {},
   "outputs": [
    {
     "name": "stdout",
     "output_type": "stream",
     "text": [
      "False\n"
     ]
    }
   ],
   "source": [
    "print(place_1)"
   ]
  },
  {
   "cell_type": "code",
   "execution_count": 8,
   "metadata": {},
   "outputs": [
    {
     "name": "stdout",
     "output_type": "stream",
     "text": [
      "[{'login': 'mikheyev9@gmail.com', 'password': 'Ai5F,;baB:rVf!8'}, {'login': 'mikheyev98@gmail.com', 'password': 'Ai5F,;baB:rVf!8'}]\n",
      "['94.137.90.59:50100@mikheyev9:aXUbosImHR', '94.137.90.59:50100@mikheyev9:aXUbosImHR']\n",
      "{'207': {'30': [1, 2, 3, 4, 5, 6, 7, 8, 9, 10, 111, 112, 113], '28': [105, 106, 109, 110, 111, 112]}, '205': {'19': [4, 5, 6, 7, 8, 9, 10], '22': [105, 106, 107, 108, 109]}}\n"
     ]
    }
   ],
   "source": [
    "###logic\n",
    "with open('accounts.json', 'r') as file:\n",
    "    user_accounts = json.load(file)\n",
    "print(user_accounts)\n",
    "with open('proxies.json', 'r') as file:\n",
    "    proxies = json.load(file)\n",
    "print(proxies)\n",
    "with open('need_tikets.json', 'r') as file:\n",
    "    need_tikets = json.load(file)\n",
    "print(need_tikets)\n"
   ]
  },
  {
   "cell_type": "code",
   "execution_count": 10,
   "metadata": {},
   "outputs": [
    {
     "name": "stdout",
     "output_type": "stream",
     "text": [
      "[('207', '30', '1'), ('207', '30', '2'), ('207', '30', '3'), ('207', '30', '4'), ('207', '30', '5'), ('207', '30', '6'), ('207', '30', '7'), ('207', '30', '8'), ('207', '30', '9'), ('207', '30', '10'), ('207', '30', '111'), ('207', '30', '112'), ('207', '30', '113'), ('207', '28', '105'), ('207', '28', '106'), ('207', '28', '109'), ('207', '28', '110'), ('207', '28', '111'), ('207', '28', '112'), ('205', '19', '4'), ('205', '19', '5'), ('205', '19', '6'), ('205', '19', '7'), ('205', '19', '8'), ('205', '19', '9'), ('205', '19', '10'), ('205', '22', '105'), ('205', '22', '106'), ('205', '22', '107'), ('205', '22', '108'), ('205', '22', '109')]\n"
     ]
    }
   ],
   "source": [
    "def dict_to_tuples(dict_data):\n",
    "  tuples = []\n",
    "  for outer_key, inner_dict in dict_data.items():\n",
    "    for inner_key, value in inner_dict.items():\n",
    "      for item in value:\n",
    "        tuples.append((outer_key, inner_key, str(item)))\n",
    "  return tuples\n",
    "print(dict_to_tuples(need_tikets))\n",
    "need_tikets_tuple = dict_to_tuples(need_tikets)"
   ]
  },
  {
   "cell_type": "code",
   "execution_count": 28,
   "metadata": {},
   "outputs": [],
   "source": [
    "from user import User\n",
    "from tickets import Tickets"
   ]
  },
  {
   "cell_type": "code",
   "execution_count": 12,
   "metadata": {},
   "outputs": [],
   "source": [
    "ticket = Tickets(url='https://tickets.ska.ru/view-available-zones/2027')\n",
    "user = User(proxy=proxies[0], account=user_accounts[0])\n"
   ]
  },
  {
   "cell_type": "code",
   "execution_count": 6,
   "metadata": {},
   "outputs": [],
   "source": [
    "async def put_in_tickets_queue(sector_row_place: tuple, semaphore: asyncio.Semaphore, tickets_queue: asyncio.Queue):\n",
    "    async with semaphore:\n",
    "        sector, row, place = sector_row_place\n",
    "        is_place_availible = await ticket.find_place_in_sector(sector, row, place)\n",
    "        print(is_place_availible, sector_row_place)\n",
    "        if is_place_availible:\n",
    "            await tickets_queue.put((is_place_availible, sector, row, place))\n",
    "\n",
    "tickets_queue = asyncio.Queue(30)\n",
    "\n",
    "async def main():\n",
    "    semaphore = asyncio.Semaphore(5)\n",
    "    tasks = []\n",
    "    for sector_row_place in need_tikets_tuple:\n",
    "        task = put_in_tickets_queue(sector_row_place, semaphore, tickets_queue)\n",
    "        await task"
   ]
  },
  {
   "cell_type": "code",
   "execution_count": 13,
   "metadata": {},
   "outputs": [
    {
     "name": "stdout",
     "output_type": "stream",
     "text": [
      "False ('207', '30', '1')\n",
      "False ('207', '30', '2')\n",
      "False ('207', '30', '3')\n",
      "False ('207', '30', '4')\n",
      "False ('207', '30', '5')\n",
      "False ('207', '30', '6')\n",
      "False ('207', '30', '7')\n",
      "False ('207', '30', '8')\n",
      "False ('207', '30', '9')\n",
      "False ('207', '30', '10')\n",
      "{'categoryId': '1', 'id': '554042', 'name': 'Сектор 207 Ряд 30 Место 111', 'orderId': '', 'price': '0.00', 'quant': '1'} ('207', '30', '111')\n",
      "{'categoryId': '1', 'id': '554043', 'name': 'Сектор 207 Ряд 30 Место 112', 'orderId': '', 'price': '0.00', 'quant': '1'} ('207', '30', '112')\n",
      "{'categoryId': '1', 'id': '554044', 'name': 'Сектор 207 Ряд 30 Место 113', 'orderId': '', 'price': '0.00', 'quant': '1'} ('207', '30', '113')\n",
      "{'categoryId': '1', 'id': '553961', 'name': 'Сектор 207 Ряд 28 Место 105', 'orderId': '', 'price': '0.00', 'quant': '1'} ('207', '28', '105')\n",
      "{'categoryId': '1', 'id': '553962', 'name': 'Сектор 207 Ряд 28 Место 106', 'orderId': '', 'price': '0.00', 'quant': '1'} ('207', '28', '106')\n",
      "False ('207', '28', '109')\n",
      "{'categoryId': '1', 'id': '553966', 'name': 'Сектор 207 Ряд 28 Место 110', 'orderId': '', 'price': '0.00', 'quant': '1'} ('207', '28', '110')\n",
      "{'categoryId': '1', 'id': '553967', 'name': 'Сектор 207 Ряд 28 Место 111', 'orderId': '', 'price': '0.00', 'quant': '1'} ('207', '28', '111')\n",
      "{'categoryId': '1', 'id': '553968', 'name': 'Сектор 207 Ряд 28 Место 112', 'orderId': '', 'price': '0.00', 'quant': '1'} ('207', '28', '112')\n",
      "Sector:205 isnt availible\n",
      "False ('205', '19', '4')\n",
      "False ('205', '19', '5')\n",
      "False ('205', '19', '6')\n",
      "False ('205', '19', '7')\n",
      "False ('205', '19', '8')\n",
      "False ('205', '19', '9')\n",
      "False ('205', '19', '10')\n",
      "False ('205', '22', '105')\n",
      "False ('205', '22', '106')\n",
      "False ('205', '22', '107')\n",
      "False ('205', '22', '108')\n",
      "False ('205', '22', '109')\n"
     ]
    }
   ],
   "source": [
    "await main()"
   ]
  },
  {
   "cell_type": "code",
   "execution_count": 24,
   "metadata": {},
   "outputs": [
    {
     "name": "stdout",
     "output_type": "stream",
     "text": [
      "<Queue maxsize=30 _queue=[({'categoryId': '1', 'id': '553520', 'name': 'Сектор 206 Ряд 30 Место 1', 'orderId': '', 'price': '0.00', 'quant': '1'}, '206', '30', '1'), ({'categoryId': '1', 'id': '553521', 'name': 'Сектор 206 Ряд 30 Место 2', 'orderId': '', 'price': '0.00', 'quant': '1'}, '206', '30', '2'), ({'categoryId': '1', 'id': '553522', 'name': 'Сектор 206 Ряд 30 Место 3', 'orderId': '', 'price': '0.00', 'quant': '1'}, '206', '30', '3'), ({'categoryId': '1', 'id': '553523', 'name': 'Сектор 206 Ряд 30 Место 4', 'orderId': '', 'price': '0.00', 'quant': '1'}, '206', '30', '4'), ({'categoryId': '1', 'id': '553524', 'name': 'Сектор 206 Ряд 30 Место 5', 'orderId': '', 'price': '0.00', 'quant': '1'}, '206', '30', '5'), ({'categoryId': '1', 'id': '553525', 'name': 'Сектор 206 Ряд 30 Место 6', 'orderId': '', 'price': '0.00', 'quant': '1'}, '206', '30', '6'), ({'categoryId': '1', 'id': '553526', 'name': 'Сектор 206 Ряд 30 Место 7', 'orderId': '', 'price': '0.00', 'quant': '1'}, '206', '30', '7'), ({'categoryId': '1', 'id': '553527', 'name': 'Сектор 206 Ряд 30 Место 8', 'orderId': '', 'price': '0.00', 'quant': '1'}, '206', '30', '8'), ({'categoryId': '1', 'id': '553528', 'name': 'Сектор 206 Ряд 30 Место 9', 'orderId': '', 'price': '0.00', 'quant': '1'}, '206', '30', '9'), ({'categoryId': '1', 'id': '553529', 'name': 'Сектор 206 Ряд 30 Место 10', 'orderId': '', 'price': '0.00', 'quant': '1'}, '206', '30', '10'), ({'categoryId': '1', 'id': '553508', 'name': 'Сектор 206 Ряд 29 Место 107', 'orderId': '', 'price': '0.00', 'quant': '1'}, '206', '29', '107'), ({'categoryId': '1', 'id': '553509', 'name': 'Сектор 206 Ряд 29 Место 108', 'orderId': '', 'price': '0.00', 'quant': '1'}, '206', '29', '108'), ({'categoryId': '1', 'id': '553510', 'name': 'Сектор 206 Ряд 29 Место 109', 'orderId': '', 'price': '0.00', 'quant': '1'}, '206', '29', '109'), ({'categoryId': '1', 'id': '553511', 'name': 'Сектор 206 Ряд 29 Место 110', 'orderId': '', 'price': '0.00', 'quant': '1'}, '206', '29', '110'), ({'categoryId': '1', 'id': '552826', 'name': 'Сектор 205 Ряд 19 Место 4', 'orderId': '', 'price': '0.00', 'quant': '1'}, '205', '19', '4'), ({'categoryId': '1', 'id': '552827', 'name': 'Сектор 205 Ряд 19 Место 5', 'orderId': '', 'price': '0.00', 'quant': '1'}, '205', '19', '5'), ({'categoryId': '1', 'id': '552830', 'name': 'Сектор 205 Ряд 19 Место 8', 'orderId': '', 'price': '0.00', 'quant': '1'}, '205', '19', '8'), ({'categoryId': '1', 'id': '552831', 'name': 'Сектор 205 Ряд 19 Место 9', 'orderId': '', 'price': '0.00', 'quant': '1'}, '205', '19', '9'), ({'categoryId': '1', 'id': '552872', 'name': 'Сектор 205 Ряд 22 Место 109', 'orderId': '', 'price': '0.00', 'quant': '1'}, '205', '22', '109')] tasks=19>\n"
     ]
    }
   ],
   "source": [
    "\n",
    "print(tickets_queue)\n",
    "#print(box)"
   ]
  },
  {
   "cell_type": "code",
   "execution_count": 30,
   "metadata": {},
   "outputs": [
    {
     "name": "stdout",
     "output_type": "stream",
     "text": [
      "ELifMiI6QNPYMJVshvmDTfJZsXikKJyFBQ4D76J3mR1-jM1_RH4Qiop-3zjAwfQMmhLbId57-8BOZXeG1hrjTA== CSRF token\n",
      "<ClientResponse(https://tickets.ska.ru/) [200 OK]>\n",
      "<CIMultiDictProxy('Server': 'nginx', 'Date': 'Sat, 24 Feb 2024 17:01:43 GMT', 'Content-Type': 'text/html; charset=UTF-8', 'Transfer-Encoding': 'chunked', 'Connection': 'keep-alive', 'Vary': 'Accept-Encoding', 'Set-Cookie': 'SKA_SESSION=tk6clu1anq6kmv6p74cir7tg86; expires=Sun, 25-Feb-2024 17:01:41 GMT; Max-Age=86400; path=/', 'Expires': 'Thu, 19 Nov 1981 08:52:00 GMT', 'Cache-Control': 'no-store, no-cache, must-revalidate, post-check=0, pre-check=0', 'Pragma': 'no-cache', 'Strict-Transport-Security': 'max-age=31536000;', 'Content-Encoding': 'gzip')>\n",
      " True self.auth_status\n"
     ]
    }
   ],
   "source": [
    "async def auth_account(user_accounts, proxies):\n",
    "    if len(user_accounts) <= 0:\n",
    "        print('Out of users!')\n",
    "        return False\n",
    "    user_accounts = user_accounts.pop()\n",
    "    if len(proxies) <= 0:\n",
    "        print('Out of proxies')\n",
    "        return False\n",
    "    proxy = proxies.pop()\n",
    "    user = User(proxy, user_accounts)\n",
    "    status_code = await user.make_session()\n",
    "    if status_code != 200:\n",
    "        return auth_account(user_accounts, proxies)\n",
    "    auth_status = await user.auth()\n",
    "    if not auth_status:\n",
    "        return False\n",
    "    return user\n",
    "user_1 = await auth_account(user_accounts, proxies)     \n"
   ]
  },
  {
   "cell_type": "code",
   "execution_count": 31,
   "metadata": {},
   "outputs": [
    {
     "name": "stdout",
     "output_type": "stream",
     "text": [
      "jAvVdv5QA_Y9MobQz_gtNyB7DvNGP5y2jfS-jRqJ2WPTRp0Pl2VJg2508oCMrkxDYy17phBt5Pf4rdfYSOXgVw== CSRF token\n",
      "<ClientResponse(https://tickets.ska.ru/) [200 OK]>\n",
      "<CIMultiDictProxy('Server': 'nginx', 'Date': 'Sat, 24 Feb 2024 17:01:49 GMT', 'Content-Type': 'text/html; charset=UTF-8', 'Transfer-Encoding': 'chunked', 'Connection': 'keep-alive', 'Vary': 'Accept-Encoding', 'Set-Cookie': 'SKA_SESSION=dpkovu0u8mgt3m59cca89255m0; expires=Sun, 25-Feb-2024 17:01:47 GMT; Max-Age=86400; path=/', 'Expires': 'Thu, 19 Nov 1981 08:52:00 GMT', 'Cache-Control': 'no-store, no-cache, must-revalidate, post-check=0, pre-check=0', 'Pragma': 'no-cache', 'Strict-Transport-Security': 'max-age=31536000;', 'Content-Encoding': 'gzip')>\n",
      " True self.auth_status\n"
     ]
    }
   ],
   "source": [
    "user_2 = await auth_account(user_accounts, proxies)"
   ]
  },
  {
   "cell_type": "code",
   "execution_count": 28,
   "metadata": {},
   "outputs": [
    {
     "name": "stdout",
     "output_type": "stream",
     "text": [
      "<user.User object at 0x7f435e6b29d0>\n"
     ]
    }
   ],
   "source": [
    "print(user_1)"
   ]
  },
  {
   "cell_type": "code",
   "execution_count": null,
   "metadata": {},
   "outputs": [],
   "source": [
    "acc = {\n",
    "        \"login\": \"mikheyev98@gmail.com\",\n",
    "        \"password\": \"Ai5F,;baB:rVf!8\"\n",
    "    }\n",
    "user_3 = User(proxy=\"213.139.223.17:8000@XaW2zS:SVgsuG\", account=acc)\n",
    "x = await user_3.make_session()"
   ]
  },
  {
   "cell_type": "code",
   "execution_count": 25,
   "metadata": {},
   "outputs": [],
   "source": [
    "await user_3.close_session()"
   ]
  },
  {
   "cell_type": "code",
   "execution_count": null,
   "metadata": {},
   "outputs": [],
   "source": [
    "async def monitor_tickets_queue(tickets_queue, semaphore):\n",
    "    while True:\n",
    "        # Ожидаем получения 5 билетов из очереди\n",
    "        tickets_batch = []\n",
    "        for _ in range(3):\n",
    "            ticket = await tickets_queue.get()\n",
    "            tickets_batch.append(ticket)\n",
    "        \n",
    "        # Создаем и запускаем задачу для обработки пакета билетов\n",
    "        async with semaphore:\n",
    "            await asyncio.create_task(process_tickets_batch(tickets_batch))\n",
    "\n",
    "\n",
    "async def main():\n",
    "    tickets_queue = asyncio.Queue()\n",
    "    # Создаем семафор для ограничения количества одновременно выполняемых задач\n",
    "    semaphore = asyncio.Semaphore(10)\n",
    "    \n",
    "    # Запускаем асинхронную функцию для добавления билетов в очередь\n",
    "    asyncio.create_task(add_tickets_to_queue(tickets_queue))\n",
    "\n",
    "    # Запускаем мониторинг очереди\n",
    "    await monitor_tickets_queue(tickets_queue, semaphore)"
   ]
  },
  {
   "cell_type": "code",
   "execution_count": 1,
   "outputs": [],
   "source": [
    "from tickets import Tickets"
   ],
   "metadata": {
    "collapsed": false,
    "ExecuteTime": {
     "end_time": "2024-03-05T08:18:08.614678564Z",
     "start_time": "2024-03-05T08:18:08.570592227Z"
    }
   }
  },
  {
   "cell_type": "code",
   "execution_count": 2,
   "outputs": [],
   "source": [
    "ticket = Tickets('https://tickets.ska.ru/view-available-zones/2062')"
   ],
   "metadata": {
    "collapsed": false,
    "ExecuteTime": {
     "end_time": "2024-03-05T08:18:10.358045210Z",
     "start_time": "2024-03-05T08:18:10.344179750Z"
    }
   }
  },
  {
   "cell_type": "code",
   "execution_count": 3,
   "outputs": [],
   "source": [
    "all_sectors = await ticket._update_all_free_sectors()"
   ],
   "metadata": {
    "collapsed": false,
    "ExecuteTime": {
     "end_time": "2024-03-05T08:18:22.342940732Z",
     "start_time": "2024-03-05T08:18:13.242126166Z"
    }
   }
  },
  {
   "cell_type": "code",
   "execution_count": 4,
   "outputs": [
    {
     "name": "stdout",
     "output_type": "stream",
     "text": [
      "[{'id': '550733', 'name': 202, 'quant': '1', 'zoneId': '-99999', 'zoneTypeId': '100', 'price': [650, 1190], 'url': 'https://tickets.ska.ru/seats-list/2062/550733'}, {'id': '551226', 'name': 203, 'quant': '1', 'zoneId': '-99999', 'zoneTypeId': '100', 'price': [995, 2050], 'url': 'https://tickets.ska.ru/seats-list/2062/551226'}, {'id': '551861', 'name': 204, 'quant': '3', 'zoneId': '-99999', 'zoneTypeId': '100', 'price': [1595, 3190], 'url': 'https://tickets.ska.ru/seats-list/2062/551861'}, {'id': '552377', 'name': 205, 'quant': '2', 'zoneId': '-99999', 'zoneTypeId': '100', 'price': [1695, 3300], 'url': 'https://tickets.ska.ru/seats-list/2062/552377'}, {'id': '554699', 'name': 209, 'quant': '1', 'zoneId': '-99999', 'zoneTypeId': '100', 'price': [595, 1150], 'url': 'https://tickets.ska.ru/seats-list/2062/554699'}, {'id': '557417', 'name': 213, 'quant': '2', 'zoneId': '-99999', 'zoneTypeId': '100', 'price': [1675, 3290], 'url': 'https://tickets.ska.ru/seats-list/2062/557417'}, {'id': '559044', 'name': 215, 'quant': '1', 'zoneId': '-99999', 'zoneTypeId': '100', 'price': [650, 1390], 'url': 'https://tickets.ska.ru/seats-list/2062/559044'}, {'id': '559540', 'name': 216, 'quant': '4', 'zoneId': '-99999', 'zoneTypeId': '100', 'price': [550, 1050], 'url': 'https://tickets.ska.ru/seats-list/2062/559540'}, {'id': '560617', 'name': 304, 'quant': '8', 'zoneId': '-99999', 'zoneTypeId': '100', 'price': [3700, 5400], 'url': 'https://tickets.ska.ru/seats-list/2062/560617'}, {'id': '560734', 'name': 305, 'quant': '39', 'zoneId': '-99999', 'zoneTypeId': '100', 'price': [3700, 5400], 'url': 'https://tickets.ska.ru/seats-list/2062/560734'}, {'id': '560955', 'name': 'Ресторан 4 этаж', 'quant': '88', 'zoneId': '328', 'zoneTypeId': '110', 'price': [2400, 2400], 'url': 'https://tickets.ska.ru/seats-list/2062/560955'}, {'id': '563413', 'name': 601, 'quant': '348', 'zoneId': '-99999', 'zoneTypeId': '100', 'price': [590, 1190], 'url': 'https://tickets.ska.ru/seats-list/2062/563413'}, {'id': '564117', 'name': 602, 'quant': '268', 'zoneId': '-99999', 'zoneTypeId': '100', 'price': [675, 1250], 'url': 'https://tickets.ska.ru/seats-list/2062/564117'}, {'id': '564772', 'name': 603, 'quant': '259', 'zoneId': '-99999', 'zoneTypeId': '100', 'price': [1175, 2090], 'url': 'https://tickets.ska.ru/seats-list/2062/564772'}, {'id': '565363', 'name': 604, 'quant': '69', 'zoneId': '-99999', 'zoneTypeId': '100', 'price': [1590, 2690], 'url': 'https://tickets.ska.ru/seats-list/2062/565363'}, {'id': '565815', 'name': 605, 'quant': '65', 'zoneId': '-99999', 'zoneTypeId': '100', 'price': [1675, 2700], 'url': 'https://tickets.ska.ru/seats-list/2062/565815'}, {'id': '566341', 'name': 606, 'quant': '216', 'zoneId': '-99999', 'zoneTypeId': '100', 'price': [1175, 2090], 'url': 'https://tickets.ska.ru/seats-list/2062/566341'}, {'id': '566924', 'name': 607, 'quant': '260', 'zoneId': '-99999', 'zoneTypeId': '100', 'price': [650, 1350], 'url': 'https://tickets.ska.ru/seats-list/2062/566924'}, {'id': '567556', 'name': 608, 'quant': '367', 'zoneId': '-99999', 'zoneTypeId': '100', 'price': [575, 1190], 'url': 'https://tickets.ska.ru/seats-list/2062/567556'}, {'id': '568276', 'name': 609, 'quant': '175', 'zoneId': '-99999', 'zoneTypeId': '100', 'price': [575, 1190], 'url': 'https://tickets.ska.ru/seats-list/2062/568276'}, {'id': '569039', 'name': 610, 'quant': '126', 'zoneId': '-99999', 'zoneTypeId': '100', 'price': [695, 1350], 'url': 'https://tickets.ska.ru/seats-list/2062/569039'}, {'id': '569691', 'name': 611, 'quant': '263', 'zoneId': '-99999', 'zoneTypeId': '100', 'price': [950, 2090], 'url': 'https://tickets.ska.ru/seats-list/2062/569691'}, {'id': '570282', 'name': 612, 'quant': '120', 'zoneId': '-99999', 'zoneTypeId': '100', 'price': [1590, 2590], 'url': 'https://tickets.ska.ru/seats-list/2062/570282'}, {'id': '570716', 'name': 613, 'quant': '140', 'zoneId': '-99999', 'zoneTypeId': '100', 'price': [1550, 2590], 'url': 'https://tickets.ska.ru/seats-list/2062/570716'}, {'id': '571161', 'name': 614, 'quant': '219', 'zoneId': '-99999', 'zoneTypeId': '100', 'price': [795, 1650], 'url': 'https://tickets.ska.ru/seats-list/2062/571161'}, {'id': '571753', 'name': 615, 'quant': '268', 'zoneId': '-99999', 'zoneTypeId': '100', 'price': [575, 1190], 'url': 'https://tickets.ska.ru/seats-list/2062/571753'}, {'id': '572419', 'name': 616, 'quant': '316', 'zoneId': '-99999', 'zoneTypeId': '100', 'price': [495, 1090], 'url': 'https://tickets.ska.ru/seats-list/2062/572419'}]\n"
     ]
    }
   ],
   "source": [
    "print(all_sectors)"
   ],
   "metadata": {
    "collapsed": false,
    "ExecuteTime": {
     "end_time": "2024-03-05T08:18:25.215110557Z",
     "start_time": "2024-03-05T08:18:25.209806122Z"
    }
   }
  },
  {
   "cell_type": "code",
   "execution_count": 5,
   "outputs": [
    {
     "data": {
      "text/plain": "{'202': {'url': 'https://tickets.ska.ru/seats-list/2062/550733'},\n '203': {'url': 'https://tickets.ska.ru/seats-list/2062/551226'},\n '204': {'url': 'https://tickets.ska.ru/seats-list/2062/551861'},\n '205': {'url': 'https://tickets.ska.ru/seats-list/2062/552377'},\n '209': {'url': 'https://tickets.ska.ru/seats-list/2062/554699'},\n '213': {'url': 'https://tickets.ska.ru/seats-list/2062/557417'},\n '215': {'url': 'https://tickets.ska.ru/seats-list/2062/559044'},\n '216': {'url': 'https://tickets.ska.ru/seats-list/2062/559540'},\n '304': {'url': 'https://tickets.ska.ru/seats-list/2062/560617'},\n '305': {'url': 'https://tickets.ska.ru/seats-list/2062/560734'},\n 'Ресторан 4 этаж': {'url': 'https://tickets.ska.ru/seats-list/2062/560955'},\n '601': {'url': 'https://tickets.ska.ru/seats-list/2062/563413'},\n '602': {'url': 'https://tickets.ska.ru/seats-list/2062/564117'},\n '603': {'url': 'https://tickets.ska.ru/seats-list/2062/564772'},\n '604': {'url': 'https://tickets.ska.ru/seats-list/2062/565363'},\n '605': {'url': 'https://tickets.ska.ru/seats-list/2062/565815'},\n '606': {'url': 'https://tickets.ska.ru/seats-list/2062/566341'},\n '607': {'url': 'https://tickets.ska.ru/seats-list/2062/566924'},\n '608': {'url': 'https://tickets.ska.ru/seats-list/2062/567556'},\n '609': {'url': 'https://tickets.ska.ru/seats-list/2062/568276'},\n '610': {'url': 'https://tickets.ska.ru/seats-list/2062/569039'},\n '611': {'url': 'https://tickets.ska.ru/seats-list/2062/569691'},\n '612': {'url': 'https://tickets.ska.ru/seats-list/2062/570282'},\n '613': {'url': 'https://tickets.ska.ru/seats-list/2062/570716'},\n '614': {'url': 'https://tickets.ska.ru/seats-list/2062/571161'},\n '615': {'url': 'https://tickets.ska.ru/seats-list/2062/571753'},\n '616': {'url': 'https://tickets.ska.ru/seats-list/2062/572419'}}"
     },
     "execution_count": 5,
     "metadata": {},
     "output_type": "execute_result"
    }
   ],
   "source": [
    "ticket.all_free_sectors"
   ],
   "metadata": {
    "collapsed": false,
    "ExecuteTime": {
     "end_time": "2024-03-05T07:18:46.139730660Z",
     "start_time": "2024-03-05T07:18:46.087004477Z"
    }
   }
  },
  {
   "cell_type": "code",
   "execution_count": 6,
   "outputs": [],
   "source": [
    "sector_update = await ticket._update_rows_seats_in_sector('604')"
   ],
   "metadata": {
    "collapsed": false,
    "ExecuteTime": {
     "end_time": "2024-03-05T07:27:14.886063553Z",
     "start_time": "2024-03-05T07:27:12.223707244Z"
    }
   }
  },
  {
   "cell_type": "code",
   "execution_count": 11,
   "outputs": [
    {
     "data": {
      "text/plain": "{'604': {'4': {'3': {'categoryId': '1',\n    'id': '565455',\n    'name': 'Сектор 604 Ряд 4 Место 3',\n    'orderId': '',\n    'price': '1590.00',\n    'quant': '1'},\n   '103': {'categoryId': '1',\n    'id': '565470',\n    'name': 'Сектор 604 Ряд 4 Место 103',\n    'orderId': '',\n    'price': '1590.00',\n    'quant': '1'},\n   '111': {'categoryId': '1',\n    'id': '565478',\n    'name': 'Сектор 604 Ряд 4 Место 111',\n    'orderId': '',\n    'price': '2390.00',\n    'quant': '1'}},\n  '5': {'103': {'categoryId': '1',\n    'id': '565497',\n    'name': 'Сектор 604 Ряд 5 Место 103',\n    'orderId': '',\n    'price': '2390.00',\n    'quant': '1'}},\n  '7': {'111': {'categoryId': '1',\n    'id': '565559',\n    'name': 'Сектор 604 Ряд 7 Место 111',\n    'orderId': '',\n    'price': '2290.00',\n    'quant': '1'}},\n  '8': {'9': {'categoryId': '1',\n    'id': '565569',\n    'name': 'Сектор 604 Ряд 8 Место 9',\n    'orderId': '',\n    'price': '2190.00',\n    'quant': '1'},\n   '104': {'categoryId': '1',\n    'id': '565584',\n    'name': 'Сектор 604 Ряд 8 Место 104',\n    'orderId': '',\n    'price': '1590.00',\n    'quant': '1'},\n   '110': {'categoryId': '1',\n    'id': '565590',\n    'name': 'Сектор 604 Ряд 8 Место 110',\n    'orderId': '',\n    'price': '2290.00',\n    'quant': '1'},\n   '115': {'categoryId': '1',\n    'id': '565595',\n    'name': 'Сектор 604 Ряд 8 Место 115',\n    'orderId': '',\n    'price': '2290.00',\n    'quant': '1'}},\n  '9': {'20': {'categoryId': '1',\n    'id': '565616',\n    'name': 'Сектор 604 Ряд 9 Место 20',\n    'orderId': '',\n    'price': '2190.00',\n    'quant': '1'},\n   '101': {'categoryId': '1',\n    'id': '565617',\n    'name': 'Сектор 604 Ряд 9 Место 101',\n    'orderId': '',\n    'price': '1590.00',\n    'quant': '1'},\n   '102': {'categoryId': '1',\n    'id': '565618',\n    'name': 'Сектор 604 Ряд 9 Место 102',\n    'orderId': '',\n    'price': '1590.00',\n    'quant': '1'},\n   '103': {'categoryId': '1',\n    'id': '565619',\n    'name': 'Сектор 604 Ряд 9 Место 103',\n    'orderId': '',\n    'price': '1590.00',\n    'quant': '1'}},\n  '10': {'8': {'categoryId': '1',\n    'id': '565640',\n    'name': 'Сектор 604 Ряд 10 Место 8',\n    'orderId': '',\n    'price': '1590.00',\n    'quant': '1'},\n   '9': {'categoryId': '1',\n    'id': '565641',\n    'name': 'Сектор 604 Ряд 10 Место 9',\n    'orderId': '',\n    'price': '1590.00',\n    'quant': '1'},\n   '10': {'categoryId': '1',\n    'id': '565642',\n    'name': 'Сектор 604 Ряд 10 Место 10',\n    'orderId': '',\n    'price': '2190.00',\n    'quant': '1'},\n   '19': {'categoryId': '1',\n    'id': '565651',\n    'name': 'Сектор 604 Ряд 10 Место 19',\n    'orderId': '',\n    'price': '2190.00',\n    'quant': '1'},\n   '20': {'categoryId': '1',\n    'id': '565652',\n    'name': 'Сектор 604 Ряд 10 Место 20',\n    'orderId': '',\n    'price': '2190.00',\n    'quant': '1'},\n   '105': {'categoryId': '1',\n    'id': '565657',\n    'name': 'Сектор 604 Ряд 10 Место 105',\n    'orderId': '',\n    'price': '1590.00',\n    'quant': '1'},\n   '110': {'categoryId': '1',\n    'id': '565662',\n    'name': 'Сектор 604 Ряд 10 Место 110',\n    'orderId': '',\n    'price': '2290.00',\n    'quant': '1'},\n   '115': {'categoryId': '1',\n    'id': '565667',\n    'name': 'Сектор 604 Ряд 10 Место 115',\n    'orderId': '',\n    'price': '2290.00',\n    'quant': '1'}},\n  '11': {'6': {'categoryId': '1',\n    'id': '565674',\n    'name': 'Сектор 604 Ряд 11 Место 6',\n    'orderId': '',\n    'price': '2190.00',\n    'quant': '1'},\n   '7': {'categoryId': '1',\n    'id': '565675',\n    'name': 'Сектор 604 Ряд 11 Место 7',\n    'orderId': '',\n    'price': '2190.00',\n    'quant': '1'},\n   '8': {'categoryId': '1',\n    'id': '565676',\n    'name': 'Сектор 604 Ряд 11 Место 8',\n    'orderId': '',\n    'price': '2190.00',\n    'quant': '1'},\n   '9': {'categoryId': '1',\n    'id': '565677',\n    'name': 'Сектор 604 Ряд 11 Место 9',\n    'orderId': '',\n    'price': '2190.00',\n    'quant': '1'},\n   '10': {'categoryId': '1',\n    'id': '565678',\n    'name': 'Сектор 604 Ряд 11 Место 10',\n    'orderId': '',\n    'price': '2190.00',\n    'quant': '1'},\n   '16': {'categoryId': '1',\n    'id': '565684',\n    'name': 'Сектор 604 Ряд 11 Место 16',\n    'orderId': '',\n    'price': '2190.00',\n    'quant': '1'},\n   '17': {'categoryId': '1',\n    'id': '565685',\n    'name': 'Сектор 604 Ряд 11 Место 17',\n    'orderId': '',\n    'price': '2190.00',\n    'quant': '1'},\n   '18': {'categoryId': '1',\n    'id': '565686',\n    'name': 'Сектор 604 Ряд 11 Место 18',\n    'orderId': '',\n    'price': '2190.00',\n    'quant': '1'},\n   '19': {'categoryId': '1',\n    'id': '565687',\n    'name': 'Сектор 604 Ряд 11 Место 19',\n    'orderId': '',\n    'price': '2190.00',\n    'quant': '1'},\n   '20': {'categoryId': '1',\n    'id': '565688',\n    'name': 'Сектор 604 Ряд 11 Место 20',\n    'orderId': '',\n    'price': '2190.00',\n    'quant': '1'},\n   '105': {'categoryId': '1',\n    'id': '565693',\n    'name': 'Сектор 604 Ряд 11 Место 105',\n    'orderId': '',\n    'price': '1590.00',\n    'quant': '1'},\n   '106': {'categoryId': '1',\n    'id': '565694',\n    'name': 'Сектор 604 Ряд 11 Место 106',\n    'orderId': '',\n    'price': '1590.00',\n    'quant': '1'},\n   '115': {'categoryId': '1',\n    'id': '565703',\n    'name': 'Сектор 604 Ряд 11 Место 115',\n    'orderId': '',\n    'price': '2290.00',\n    'quant': '1'}},\n  '12': {'5': {'categoryId': '1',\n    'id': '565709',\n    'name': 'Сектор 604 Ряд 12 Место 5',\n    'orderId': '',\n    'price': '2190.00',\n    'quant': '1'},\n   '6': {'categoryId': '1',\n    'id': '565710',\n    'name': 'Сектор 604 Ряд 12 Место 6',\n    'orderId': '',\n    'price': '2190.00',\n    'quant': '1'},\n   '7': {'categoryId': '1',\n    'id': '565711',\n    'name': 'Сектор 604 Ряд 12 Место 7',\n    'orderId': '',\n    'price': '2190.00',\n    'quant': '1'},\n   '8': {'categoryId': '1',\n    'id': '565712',\n    'name': 'Сектор 604 Ряд 12 Место 8',\n    'orderId': '',\n    'price': '2190.00',\n    'quant': '1'},\n   '9': {'categoryId': '1',\n    'id': '565713',\n    'name': 'Сектор 604 Ряд 12 Место 9',\n    'orderId': '',\n    'price': '2190.00',\n    'quant': '1'},\n   '10': {'categoryId': '1',\n    'id': '565714',\n    'name': 'Сектор 604 Ряд 12 Место 10',\n    'orderId': '',\n    'price': '2190.00',\n    'quant': '1'},\n   '11': {'categoryId': '1',\n    'id': '565715',\n    'name': 'Сектор 604 Ряд 12 Место 11',\n    'orderId': '',\n    'price': '2190.00',\n    'quant': '1'},\n   '12': {'categoryId': '1',\n    'id': '565716',\n    'name': 'Сектор 604 Ряд 12 Место 12',\n    'orderId': '',\n    'price': '2190.00',\n    'quant': '1'},\n   '13': {'categoryId': '1',\n    'id': '565717',\n    'name': 'Сектор 604 Ряд 12 Место 13',\n    'orderId': '',\n    'price': '2190.00',\n    'quant': '1'},\n   '14': {'categoryId': '1',\n    'id': '565718',\n    'name': 'Сектор 604 Ряд 12 Место 14',\n    'orderId': '',\n    'price': '2190.00',\n    'quant': '1'},\n   '15': {'categoryId': '1',\n    'id': '565719',\n    'name': 'Сектор 604 Ряд 12 Место 15',\n    'orderId': '',\n    'price': '2190.00',\n    'quant': '1'},\n   '18': {'categoryId': '1',\n    'id': '565722',\n    'name': 'Сектор 604 Ряд 12 Место 18',\n    'orderId': '',\n    'price': '2190.00',\n    'quant': '1'},\n   '19': {'categoryId': '1',\n    'id': '565723',\n    'name': 'Сектор 604 Ряд 12 Место 19',\n    'orderId': '',\n    'price': '2190.00',\n    'quant': '1'},\n   '20': {'categoryId': '1',\n    'id': '565724',\n    'name': 'Сектор 604 Ряд 12 Место 20',\n    'orderId': '',\n    'price': '2190.00',\n    'quant': '1'},\n   '110': {'categoryId': '1',\n    'id': '565734',\n    'name': 'Сектор 604 Ряд 12 Место 110',\n    'orderId': '',\n    'price': '2290.00',\n    'quant': '1'}},\n  '13': {'5': {'categoryId': '1',\n    'id': '565746',\n    'name': 'Сектор 604 Ряд 13 Место 5',\n    'orderId': '',\n    'price': '2190.00',\n    'quant': '1'},\n   '6': {'categoryId': '1',\n    'id': '565747',\n    'name': 'Сектор 604 Ряд 13 Место 6',\n    'orderId': '',\n    'price': '2190.00',\n    'quant': '1'},\n   '9': {'categoryId': '1',\n    'id': '565750',\n    'name': 'Сектор 604 Ряд 13 Место 9',\n    'orderId': '',\n    'price': '2190.00',\n    'quant': '1'},\n   '10': {'categoryId': '1',\n    'id': '565751',\n    'name': 'Сектор 604 Ряд 13 Место 10',\n    'orderId': '',\n    'price': '2190.00',\n    'quant': '1'},\n   '11': {'categoryId': '1',\n    'id': '565752',\n    'name': 'Сектор 604 Ряд 13 Место 11',\n    'orderId': '',\n    'price': '2190.00',\n    'quant': '1'},\n   '12': {'categoryId': '1',\n    'id': '565753',\n    'name': 'Сектор 604 Ряд 13 Место 12',\n    'orderId': '',\n    'price': '2190.00',\n    'quant': '1'},\n   '13': {'categoryId': '1',\n    'id': '565754',\n    'name': 'Сектор 604 Ряд 13 Место 13',\n    'orderId': '',\n    'price': '2190.00',\n    'quant': '1'},\n   '14': {'categoryId': '1',\n    'id': '565755',\n    'name': 'Сектор 604 Ряд 13 Место 14',\n    'orderId': '',\n    'price': '2190.00',\n    'quant': '1'},\n   '15': {'categoryId': '1',\n    'id': '565756',\n    'name': 'Сектор 604 Ряд 13 Место 15',\n    'orderId': '',\n    'price': '2190.00',\n    'quant': '1'},\n   '16': {'categoryId': '1',\n    'id': '565757',\n    'name': 'Сектор 604 Ряд 13 Место 16',\n    'orderId': '',\n    'price': '2190.00',\n    'quant': '1'},\n   '17': {'categoryId': '1',\n    'id': '565758',\n    'name': 'Сектор 604 Ряд 13 Место 17',\n    'orderId': '',\n    'price': '2190.00',\n    'quant': '1'},\n   '18': {'categoryId': '1',\n    'id': '565759',\n    'name': 'Сектор 604 Ряд 13 Место 18',\n    'orderId': '',\n    'price': '2190.00',\n    'quant': '1'},\n   '19': {'categoryId': '1',\n    'id': '565760',\n    'name': 'Сектор 604 Ряд 13 Место 19',\n    'orderId': '',\n    'price': '2190.00',\n    'quant': '1'},\n   '104': {'categoryId': '1',\n    'id': '565765',\n    'name': 'Сектор 604 Ряд 13 Место 104',\n    'orderId': '',\n    'price': '2290.00',\n    'quant': '1'},\n   '105': {'categoryId': '1',\n    'id': '565766',\n    'name': 'Сектор 604 Ряд 13 Место 105',\n    'orderId': '',\n    'price': '2290.00',\n    'quant': '1'},\n   '106': {'categoryId': '1',\n    'id': '565767',\n    'name': 'Сектор 604 Ряд 13 Место 106',\n    'orderId': '',\n    'price': '2290.00',\n    'quant': '1'},\n   '107': {'categoryId': '1',\n    'id': '565768',\n    'name': 'Сектор 604 Ряд 13 Место 107',\n    'orderId': '',\n    'price': '2290.00',\n    'quant': '1'},\n   '108': {'categoryId': '1',\n    'id': '565769',\n    'name': 'Сектор 604 Ряд 13 Место 108',\n    'orderId': '',\n    'price': '2290.00',\n    'quant': '1'},\n   '109': {'categoryId': '1',\n    'id': '565770',\n    'name': 'Сектор 604 Ряд 13 Место 109',\n    'orderId': '',\n    'price': '2290.00',\n    'quant': '1'},\n   '110': {'categoryId': '1',\n    'id': '565771',\n    'name': 'Сектор 604 Ряд 13 Место 110',\n    'orderId': '',\n    'price': '2290.00',\n    'quant': '1'},\n   '111': {'categoryId': '1',\n    'id': '565772',\n    'name': 'Сектор 604 Ряд 13 Место 111',\n    'orderId': '',\n    'price': '2290.00',\n    'quant': '1'}}}}"
     },
     "execution_count": 11,
     "metadata": {},
     "output_type": "execute_result"
    }
   ],
   "source": [
    "ticket.all_tickets_structure"
   ],
   "metadata": {
    "collapsed": false,
    "ExecuteTime": {
     "end_time": "2024-03-05T07:35:00.996145572Z",
     "start_time": "2024-03-05T07:35:00.952553422Z"
    }
   }
  },
  {
   "cell_type": "code",
   "execution_count": 1,
   "outputs": [],
   "source": [
    "from controllerr import create_need_tickets"
   ],
   "metadata": {
    "collapsed": false,
    "ExecuteTime": {
     "end_time": "2024-03-05T08:41:15.373826627Z",
     "start_time": "2024-03-05T08:41:13.770560275Z"
    }
   }
  },
  {
   "cell_type": "code",
   "execution_count": 4,
   "outputs": [],
   "source": [
    "create_need_tickets()"
   ],
   "metadata": {
    "collapsed": false,
    "ExecuteTime": {
     "end_time": "2024-03-05T08:51:30.658654083Z",
     "start_time": "2024-03-05T08:51:30.616651085Z"
    }
   }
  },
  {
   "cell_type": "code",
   "execution_count": null,
   "outputs": [],
   "source": [],
   "metadata": {
    "collapsed": false
   }
  }
 ],
 "metadata": {
  "kernelspec": {
   "display_name": "bot",
   "language": "python",
   "name": "python3"
  },
  "language_info": {
   "codemirror_mode": {
    "name": "ipython",
    "version": 3
   },
   "file_extension": ".py",
   "mimetype": "text/x-python",
   "name": "python",
   "nbconvert_exporter": "python",
   "pygments_lexer": "ipython3",
   "version": "3.11.6"
  }
 },
 "nbformat": 4,
 "nbformat_minor": 2
}
