{
 "cells": [
  {
   "cell_type": "code",
   "execution_count": 1,
   "metadata": {},
   "outputs": [],
   "source": [
    "import aiohttp\n",
    "import asyncio\n",
    "from aiohttp import BasicAuth\n",
    "from bs4 import BeautifulSoup\n",
    "from aiohttp.client_exceptions import ContentTypeError\n",
    "from urllib.parse import urlencode\n",
    "import re\n",
    "import json\n"
   ]
  },
  {
   "cell_type": "code",
   "execution_count": 28,
   "metadata": {},
   "outputs": [],
   "source": [
    "from user import User\n",
    "from tickets import Tickets"
   ]
  },
  {
   "cell_type": "code",
   "execution_count": 4,
   "metadata": {
    "ExecuteTime": {
     "end_time": "2024-03-17T11:22:02.761315238Z",
     "start_time": "2024-03-17T11:22:02.263666563Z"
    }
   },
   "outputs": [
    {
     "name": "stderr",
     "output_type": "stream",
     "text": [
      "Unclosed client session\n",
      "client_session: <aiohttp.client.ClientSession object at 0x7b7e1c397610>\n"
     ]
    },
    {
     "name": "stdout",
     "output_type": "stream",
     "text": [
      "5EM3gBUn4uaZGvrSydtrrUzlQPW_S1Rt5jsaq_f00eOoAU7hXB64nuxqk42s7SnrGIgJp9geAiS3bEPjloaduQ== CSRF token\n"
     ]
    }
   ],
   "source": [
    "from user import User\n",
    "acc = {\n",
    "        \"login\": \"mikheyev98@gmail.com\",\n",
    "        \"password\": \"Ai5F,;baB:rVf!8\"\n",
    "    }\n",
    "user_3 = User(proxy=\"193.58.169.41:3000@2Xf9Go:5oVzj0pUFD\", account=acc)\n",
    "x = await user_3.make_session()"
   ]
  },
  {
   "cell_type": "code",
   "execution_count": 5,
   "outputs": [
    {
     "name": "stdout",
     "output_type": "stream",
     "text": [
      "Set-Cookie headers from the server response: mikheyev98@gmail.com Ai5F,;baB:rVf!8\n",
      "SKA_SESSION: Set-Cookie: SKA_SESSION=i9rtgjvvtlc4jodfmaurbl72j1; Domain=tickets.ska.ru; expires=Mon, 18-Mar-2024 11:22:06 GMT; Max-Age=86400; Path=/\n",
      "<ClientResponse(https://tickets.ska.ru/) [200 OK]>\n",
      "<CIMultiDictProxy('Server': 'nginx', 'Date': 'Sun, 17 Mar 2024 11:22:04 GMT', 'Content-Type': 'text/html; charset=UTF-8', 'Transfer-Encoding': 'chunked', 'Connection': 'keep-alive', 'Vary': 'Accept-Encoding', 'Set-Cookie': 'SKA_SESSION=i9rtgjvvtlc4jodfmaurbl72j1; expires=Mon, 18-Mar-2024 11:22:06 GMT; Max-Age=86400; path=/', 'Expires': 'Thu, 19 Nov 1981 08:52:00 GMT', 'Cache-Control': 'no-store, no-cache, must-revalidate, post-check=0, pre-check=0', 'Pragma': 'no-cache', 'Strict-Transport-Security': 'max-age=31536000;', 'Content-Encoding': 'gzip')>\n",
      " True self.auth_status\n"
     ]
    }
   ],
   "source": [
    "auth = await user_3.auth()"
   ],
   "metadata": {
    "collapsed": false,
    "ExecuteTime": {
     "end_time": "2024-03-17T11:22:09.866153497Z",
     "start_time": "2024-03-17T11:22:05.734387211Z"
    }
   }
  },
  {
   "cell_type": "code",
   "execution_count": 6,
   "outputs": [
    {
     "name": "stdout",
     "output_type": "stream",
     "text": [
      "Name: PHPSESSID, Value: dh4ch1m1m0e8rpghvtmicsmmv4, Domain: pass.ska.ru, Path: /\n",
      "Name: _csrf, Value: bd888d8102d261c3f79916b7033e4a9fa624630c0f1f158e39941071b29c6551a%3A2%3A%7Bi%3A0%3Bs%3A5%3A%22_csrf%22%3Bi%3A1%3Bs%3A32%3A%22Prxu8LGGffj6KiK98RC7unB4hAsCaZhJ%22%3B%7D, Domain: pass.ska.ru, Path: /\n",
      "Name: _language, Value: ffbb7a9c513e8665e69afb73b948d7031cfd0b922ae303cf898bf39ebc4d3329a%3A2%3A%7Bi%3A0%3Bs%3A9%3A%22_language%22%3Bi%3A1%3Bs%3A2%3A%22en%22%3B%7D, Domain: ska.ru, Path: /\n",
      "Name: CSLOGIN, Value: mikheyev98%40gmail.com, Domain: ska.ru, Path: /\n",
      "Name: CSID, Value: 4847f18fe9332324874cc2ddb72e2ac8, Domain: ska.ru, Path: /\n",
      "Name: SKA_SESSION, Value: i9rtgjvvtlc4jodfmaurbl72j1, Domain: tickets.ska.ru, Path: /\n"
     ]
    }
   ],
   "source": [
    "dir(user_3.session.cookie_jar)\n",
    "for cookie in user_3.session.cookie_jar:\n",
    "    print(f\"Name: {cookie.key}, Value: {cookie.value}, Domain: {cookie['domain']}, Path: {cookie['path']}\")"
   ],
   "metadata": {
    "collapsed": false,
    "ExecuteTime": {
     "end_time": "2024-03-17T11:22:27.512868711Z",
     "start_time": "2024-03-17T11:22:27.511040597Z"
    }
   }
  },
  {
   "cell_type": "code",
   "execution_count": 8,
   "outputs": [
    {
     "name": "stdout",
     "output_type": "stream",
     "text": [
      "{'categoryId': '1', 'id': '571715', 'name': 'Сектор 614 Ряд 15 Место 117', 'orderId': '', 'price': '1690.00', 'quant': '1'} 614 15 117\n",
      "{'operation': 'add', 'id': '571715', 'categoryId': '1', 'name': 'Сектор 614 Ряд 15 Место 117', 'quant': '1', 'price': '1690.00', 'orderId': ''} ticket\n",
      "200 response status of put_ticket_to_cart\n",
      "{'result': True, 'message': None, 'list': [{'id': '571715', 'categoryId': '1', 'name': 'Сектор 614 Ряд 15 Место 117', 'quant': '1', 'price': '1690.00', 'type': 0, 'orderId': ''}], 'content': '\\n<div class=\"promocode\">\\n        <a href=\"#\" class=\"registration__submit ska-button ska-button_white_outline\">У меня есть промокод</a>\\n    <div class=\"checkout-info__promo\">\\n        <div class=\"checkout-info__promo-value\">\\n            <div class=\"checkout-info__bonus-input-wrapper\">\\n                <input class=\"checkout-info__promo-input\" value=\"\" placeholder=\"Введите промокод\" type=\"text\">\\n                <button type=\"button\" class=\"ska-button ska-button_blue checkout-info__promo-button\">OK</button>\\n            </div>\\n        </div>\\n    </div>\\n        </div>\\n\\n<div class=\"checkout-info__selected\">\\n                <div class=\"price-item\">\\n                        <span class=\"price-item__sector\">Сектор 614</span>\\n                        <span class=\"price-item__row\">15 Ряд</span>\\n                        <span class=\"price-item__place\">117 Место</span>\\n            <span class=\"price-item__price\">1690 <svg class=\"icon_rouble\"><use xlink:href=\"/static/main/svg/icons.svg#icon_rouble\"/></svg></span>\\n            <span class=\"price-item__close close-button\" data-ticket=\"571715\" data-orderid=\"\"><svg class=\"icon_close\"><use xlink:href=\"/static/main/svg/icons.svg#icon_close\"/></svg></span>\\n        </div>\\n    </div>\\n\\n\\n<div class=\"giftcard\">\\n        <a href=\"#\" class=\"registration__submit ska-button ska-button_white_outline\">Оплата сертификатом</a>\\n    <div class=\"checkout-info__giftcard\">\\n        <div class=\"checkout-info__giftcard-label\">Оплата подарочным сертификатом</div>\\n        <div class=\"checkout-info__giftcard-value\">\\n            <div class=\"checkout-info__giftcard-input-wrapper\">\\n                <input class=\"checkout-info__giftcard-input\" name=\"giftcard\" value=\"\" placeholder=\"Введите номер сертификата\" type=\"text\">\\n                <input class=\"checkout-info__giftcard-input\" name=\"pin\" value=\"\" placeholder=\"Введите пин-код\" type=\"text\">\\n                <div>\\n                    <button type=\"button\" class=\"ska-button ska-button_blue checkout-info__giftcard-button\">Применить</button>\\n                </div>\\n            </div>\\n        </div>\\n    </div>\\n        </div>\\n\\n    \\n<div class=\"checkout-info__total\">\\n    <strong>Итого: 1 690<svg class=\"icon_rouble\"><use xlink:href=\"/static/main/svg/icons.svg#icon_rouble\"/></svg></strong>\\n        <div class=\"checkout-info__total-bonus\">Бонус за покупку: +84</div>\\n        </div>\\n', 'limit': 4} response status of put_ticket_to_cart\n",
      "True\n"
     ]
    }
   ],
   "source": [
    "tickets_batch = [({'categoryId': '1', 'id': '571715', 'name': 'Сектор 614 Ряд 15 Место 117', 'orderId': '', 'price': '1690.00', 'quant': '1'}, '614', '15', '117')]\n",
    "for ticket_info in tickets_batch:\n",
    "    ticket_info_, sector, row, place = ticket_info\n",
    "    print(ticket_info_, sector, row, place)\n",
    "    resault_of_put = await user_3.put_ticket_to_cart(event_id='2096',\n",
    "                                                ticket_info=ticket_info_)\n",
    "    print(resault_of_put)"
   ],
   "metadata": {
    "collapsed": false,
    "ExecuteTime": {
     "end_time": "2024-03-17T10:44:14.060989218Z",
     "start_time": "2024-03-17T10:44:12.998998227Z"
    }
   }
  },
  {
   "cell_type": "code",
   "execution_count": 4,
   "outputs": [
    {
     "name": "stdout",
     "output_type": "stream",
     "text": [
      "{'operation': 'add', 'id': '571715', 'categoryId': '1', 'name': 'Сектор 614 Ряд 15 Место 117', 'quant': '1', 'price': '1690.00', 'orderId': ''} ticket\n",
      "200 response status of put_ticket_to_cart\n",
      "{'result': False, 'message': None, 'list': [], 'content': None, 'limit': 0} response status of put_ticket_to_cart\n"
     ]
    }
   ],
   "source": [
    "resault_of_put = await user_3.put_ticket_to_cart(event_id='2096',\n",
    "                                                ticket_info=ticket_info_)"
   ],
   "metadata": {
    "collapsed": false,
    "ExecuteTime": {
     "end_time": "2024-03-17T09:22:53.227395110Z",
     "start_time": "2024-03-17T09:22:52.881744001Z"
    }
   }
  },
  {
   "cell_type": "code",
   "execution_count": null,
   "outputs": [],
   "source": [],
   "metadata": {
    "collapsed": false
   }
  }
 ],
 "metadata": {
  "kernelspec": {
   "display_name": "bot",
   "language": "python",
   "name": "python3"
  },
  "language_info": {
   "codemirror_mode": {
    "name": "ipython",
    "version": 3
   },
   "file_extension": ".py",
   "mimetype": "text/x-python",
   "name": "python",
   "nbconvert_exporter": "python",
   "pygments_lexer": "ipython3",
   "version": "3.11.6"
  }
 },
 "nbformat": 4,
 "nbformat_minor": 2
}
