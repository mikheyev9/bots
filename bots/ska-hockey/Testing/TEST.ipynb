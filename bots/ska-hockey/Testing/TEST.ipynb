{
 "cells": [
  {
   "cell_type": "code",
   "execution_count": null,
   "metadata": {
    "is_executing": true
   },
   "outputs": [],
   "source": [
    "import aiohttp\n",
    "import asyncio\n",
    "from bs4 import BeautifulSoup\n",
    "from aiohttp import BasicAuth"
   ]
  },
  {
   "cell_type": "code",
   "execution_count": 1,
   "metadata": {},
   "outputs": [],
   "source": [
    "headers_post =  {\n",
    "    \"accept\": \"text/html,application/xhtml+xml,application/xml;q=0.9,image/avif,image/webp,image/apng,*/*;q=0.8,application/signed-exchange;v=b3;q=0.7\",\n",
    "    \"accept-language\": \"en-US,en;q=0.9,ru;q=0.8\",\n",
    "    \"cache-control\": \"max-age=0\",\n",
    "    \"content-type\": \"application/x-www-form-urlencoded\",\n",
    "    \"sec-ch-ua\": \"\\\"Not_A Brand\\\";v=\\\"8\\\", \\\"Chromium\\\";v=\\\"120\\\", \\\"Google Chrome\\\";v=\\\"120\\\"\",\n",
    "    \"sec-ch-ua-mobile\": \"?0\",\n",
    "    \"sec-ch-ua-platform\": \"\\\"Linux\\\"\",\n",
    "    \"sec-fetch-dest\": \"document\",\n",
    "    \"sec-fetch-mode\": \"navigate\",\n",
    "    \"sec-fetch-site\": \"same-origin\",\n",
    "    \"sec-fetch-user\": \"?1\",\n",
    "    \"upgrade-insecure-requests\": \"1\",\n",
    "    \"Referer\": \"https://pass.ska.ru/en/auth/?back_domain=tickets&back_url=%2F\",\n",
    "    \"Referrer-Policy\": \"strict-origin-when-cross-origin\",\n",
    "    \"User-Agent\":\"Mozilla/5.0 (X11; Linux x86_64) AppleWebKit/537.36 (KHTML, like Gecko) Chrome/120.0.0.0 Safari/537.36\"\n",
    "  }\n",
    "\n",
    "headers_create_order = {\n",
    "    \"accept\": \"*/*\",\n",
    "    \"accept-language\": \"en-US,en;q=0.9,ru;q=0.8\",\n",
    "    \"sec-ch-ua\": \"\\\"Not_A Brand\\\";v=\\\"8\\\", \\\"Chromium\\\";v=\\\"120\\\", \\\"Google Chrome\\\";v=\\\"120\\\"\",\n",
    "    \"sec-ch-ua-mobile\": \"?0\",\n",
    "    \"sec-ch-ua-platform\": \"\\\"Linux\\\"\",\n",
    "    \"sec-fetch-dest\": \"empty\",\n",
    "    \"sec-fetch-mode\": \"cors\",\n",
    "    \"sec-fetch-site\": \"same-origin\",\n",
    "    \"x-requested-with\": \"XMLHttpRequest\",\n",
    "    \"Referer\": \"https://tickets.ska.ru/view-available-zones/1933\",\n",
    "    \"Referrer-Policy\": \"strict-origin-when-cross-origin\",\n",
    "    \"User-Agent\":\"Mozilla/5.0 (X11; Linux x86_64) AppleWebKit/537.36 (KHTML, like Gecko) Chrome/120.0.0.0 Safari/537.36\"\n",
    "  }"
   ]
  },
  {
   "cell_type": "code",
   "execution_count": 7,
   "metadata": {},
   "outputs": [
    {
     "name": "stdout",
     "output_type": "stream",
     "text": [
      "FclZXDDV2YCEci5G1onW_HOXpD267DoHKneEwcaoQ69BpQAaUp6D0bIeYhO32bzNG_39avujT2JjGLSkj8QZ_Q==\n",
      "200\n",
      "{\"result\":true,\"message\":null,\"list\":[{\"id\":\"569609\",\"categoryId\":\"1\",\"name\":\"\\u0421\\u0435\\u043a\\u0442\\u043e\\u0440 610 \\u0420\\u044f\\u0434 14 \\u041c\\u0435\\u0441\\u0442\\u043e 109\",\"quant\":\"1\",\"price\":\"540.00\",\"type\":0,\"orderId\":\"\"}],\"content\":\"\\n<div class=\\\"promocode\\\">\\n        <a href=\\\"#\\\" class=\\\"registration__submit ska-button ska-button_white_outline\\\">\\u0423 \\u043c\\u0435\\u043d\\u044f \\u0435\\u0441\\u0442\\u044c \\u043f\\u0440\\u043e\\u043c\\u043e\\u043a\\u043e\\u0434<\\/a>\\n    <div class=\\\"checkout-info__promo\\\">\\n        <div class=\\\"checkout-info__promo-value\\\">\\n            <div class=\\\"checkout-info__bonus-input-wrapper\\\">\\n                <input class=\\\"checkout-info__promo-input\\\" value=\\\"\\\" placeholder=\\\"\\u0412\\u0432\\u0435\\u0434\\u0438\\u0442\\u0435 \\u043f\\u0440\\u043e\\u043c\\u043e\\u043a\\u043e\\u0434\\\" type=\\\"text\\\">\\n                <button type=\\\"button\\\" class=\\\"ska-button ska-button_blue checkout-info__promo-button\\\">OK<\\/button>\\n            <\\/div>\\n        <\\/div>\\n    <\\/div>\\n        <\\/div>\\n\\n<div class=\\\"checkout-info__selected\\\">\\n                <div class=\\\"price-item\\\">\\n                        <span class=\\\"price-item__sector\\\">\\u0421\\u0435\\u043a\\u0442\\u043e\\u0440 610<\\/span>\\n                        <span class=\\\"price-item__row\\\">14 \\u0420\\u044f\\u0434<\\/span>\\n                        <span class=\\\"price-item__place\\\">109 \\u041c\\u0435\\u0441\\u0442\\u043e<\\/span>\\n            <span class=\\\"price-item__price\\\">540 <svg class=\\\"icon_rouble\\\"><use xlink:href=\\\"\\/static\\/main\\/svg\\/icons.svg#icon_rouble\\\"\\/><\\/svg><\\/span>\\n            <span class=\\\"price-item__close close-button\\\" data-ticket=\\\"569609\\\" data-orderid=\\\"\\\"><svg class=\\\"icon_close\\\"><use xlink:href=\\\"\\/static\\/main\\/svg\\/icons.svg#icon_close\\\"\\/><\\/svg><\\/span>\\n        <\\/div>\\n    <\\/div>\\n\\n\\n<div class=\\\"giftcard\\\">\\n        <a href=\\\"#\\\" class=\\\"registration__submit ska-button ska-button_white_outline\\\">\\u041e\\u043f\\u043b\\u0430\\u0442\\u0430 \\u0441\\u0435\\u0440\\u0442\\u0438\\u0444\\u0438\\u043a\\u0430\\u0442\\u043e\\u043c<\\/a>\\n    <div class=\\\"checkout-info__giftcard\\\">\\n        <div class=\\\"checkout-info__giftcard-label\\\">\\u041e\\u043f\\u043b\\u0430\\u0442\\u0430 \\u043f\\u043e\\u0434\\u0430\\u0440\\u043e\\u0447\\u043d\\u044b\\u043c \\u0441\\u0435\\u0440\\u0442\\u0438\\u0444\\u0438\\u043a\\u0430\\u0442\\u043e\\u043c<\\/div>\\n        <div class=\\\"checkout-info__giftcard-value\\\">\\n            <div class=\\\"checkout-info__giftcard-input-wrapper\\\">\\n                <input class=\\\"checkout-info__giftcard-input\\\" name=\\\"giftcard\\\" value=\\\"\\\" placeholder=\\\"\\u0412\\u0432\\u0435\\u0434\\u0438\\u0442\\u0435 \\u043d\\u043e\\u043c\\u0435\\u0440 \\u0441\\u0435\\u0440\\u0442\\u0438\\u0444\\u0438\\u043a\\u0430\\u0442\\u0430\\\" type=\\\"text\\\">\\n                <input class=\\\"checkout-info__giftcard-input\\\" name=\\\"pin\\\" value=\\\"\\\" placeholder=\\\"\\u0412\\u0432\\u0435\\u0434\\u0438\\u0442\\u0435 \\u043f\\u0438\\u043d-\\u043a\\u043e\\u0434\\\" type=\\\"text\\\">\\n                <div>\\n                    <button type=\\\"button\\\" class=\\\"ska-button ska-button_blue checkout-info__giftcard-button\\\">\\u041f\\u0440\\u0438\\u043c\\u0435\\u043d\\u0438\\u0442\\u044c<\\/button>\\n                <\\/div>\\n            <\\/div>\\n        <\\/div>\\n    <\\/div>\\n        <\\/div>\\n\\n    \\n<div class=\\\"checkout-info__total\\\">\\n    <strong>\\u0418\\u0442\\u043e\\u0433\\u043e: 540<svg class=\\\"icon_rouble\\\"><use xlink:href=\\\"\\/static\\/main\\/svg\\/icons.svg#icon_rouble\\\"\\/><\\/svg><\\/strong>\\n        <div class=\\\"checkout-info__total-bonus\\\">\\u0411\\u043e\\u043d\\u0443\\u0441 \\u0437\\u0430 \\u043f\\u043e\\u043a\\u0443\\u043f\\u043a\\u0443: +27<\\/div>\\n        <\\/div>\\n\",\"limit\":2}\n",
      "1658744 order\n",
      "200\n"
     ]
    }
   ],
   "source": [
    "\n",
    "headers = {\n",
    "    \"accept\": \"text/html,application/xhtml+xml,application/xml;q=0.9,image/avif,image/webp,image/apng,*/*;q=0.8,application/signed-exchange;v=b3;q=0.7\",\n",
    "    \"accept-language\": \"en-US,en;q=0.9,ru;q=0.8\",\n",
    "    \"sec-ch-ua\": \"\\\"Not_A Brand\\\";v=\\\"8\\\", \\\"Chromium\\\";v=\\\"120\\\", \\\"Google Chrome\\\";v=\\\"120\\\"\",\n",
    "    \"sec-ch-ua-mobile\": \"?0\",\n",
    "    \"sec-ch-ua-platform\": \"\\\"Linux\\\"\",\n",
    "    \"sec-fetch-dest\": \"document\",\n",
    "    \"sec-fetch-mode\": \"navigate\",\n",
    "    \"sec-fetch-site\": \"same-site\",\n",
    "    \"sec-fetch-user\": \"?1\",\n",
    "    \"upgrade-insecure-requests\": \"1\",\n",
    "    \"Referer\": \"https://tickets.ska.ru/\",\n",
    "    \"Referrer-Policy\": \"strict-origin-when-cross-origin\",\n",
    "    \"User-Agent\":\"Mozilla/5.0 (X11; Linux x86_64) AppleWebKit/537.36 (KHTML, like Gecko) Chrome/120.0.0.0 Safari/537.36\"\n",
    "  }\n",
    "\n",
    "def find_csrf(text):\n",
    "    soup = BeautifulSoup(text, 'lxml')\n",
    "    meta = soup.find('meta', attrs={'name':'csrf-token'})\n",
    "    return meta.get('content')\n",
    "\n",
    "cookies = {}\n",
    "url = 'https://pass.ska.ru/en/auth/?back_domain=tickets&back_url=%2F'\n",
    "async def main():\n",
    "    async with aiohttp.ClientSession() as session:\n",
    "        async with session.get(url, headers=headers) as response:\n",
    "            for name, cookie in response.cookies.items():\n",
    "                cookies[name] = cookie\n",
    "            text = await response.text()\n",
    "            CSRF = find_csrf(text)\n",
    "            print(CSRF)\n",
    "\n",
    "        data = {\n",
    "            '_csrf': CSRF,\n",
    "            'login': 'mikheyev9@gmail.com',\n",
    "            'password': 'Ai5F,;baB:rVf!8',\n",
    "            'auth_type': 'email',\n",
    "            'send_submit': 'Y'\n",
    "        }\n",
    "\n",
    "        async with session.post(url='https://pass.ska.ru/en/auth/', headers=headers_post, data=data) as response:\n",
    "            resp = response.status\n",
    "            print(resp)\n",
    "\n",
    "        data_buy = {\n",
    "            'operation': 'add',\n",
    "            'id': '569609',\n",
    "            'categoryId': '1',\n",
    "            'name': 'Сектор 610 Ряд 14 Место 109',\n",
    "            'quant': '1',\n",
    "            'price': '540.00',\n",
    "            'orderId': ''\n",
    "        }\n",
    "\n",
    "        async with session.post(url='https://tickets.ska.ru/cart/1933', headers=headers_post, data=data_buy) as response:\n",
    "            resp = await response.text()\n",
    "            print(resp)\n",
    "\n",
    "        \n",
    "        async with session.get(url='https://tickets.ska.ru/create-order/1933', headers=headers_create_order) as response:\n",
    "            resp = await response.json()\n",
    "            order = resp.get(\"order\")\n",
    "            print(order, \"order\")\n",
    "        \n",
    "        async with session.post(url=f'https://tickets.ska.ru/pay-order/{order}', headers=headers_post,\n",
    "                                data={'card': 'other'}) as response:\n",
    "            resp = await response.text()\n",
    "            print(response.status)\n",
    "            with open('TEST.html', 'w', encoding='utf-8') as f:\n",
    "                f.write(resp)\n",
    "        \n",
    "\n",
    "        \n",
    "response = await main()"
   ]
  },
  {
   "cell_type": "code",
   "execution_count": 9,
   "metadata": {},
   "outputs": [
    {
     "ename": "TypeError",
     "evalue": "ClientSession.__init__() got an unexpected keyword argument 'proxy'",
     "output_type": "error",
     "traceback": [
      "\u001B[0;31m---------------------------------------------------------------------------\u001B[0m",
      "\u001B[0;31mTypeError\u001B[0m                                 Traceback (most recent call last)",
      "Cell \u001B[0;32mIn[9], line 6\u001B[0m\n\u001B[1;32m      4\u001B[0m proxy_login, proxy_password \u001B[38;5;241m=\u001B[39m user_info\u001B[38;5;241m.\u001B[39msplit(\u001B[38;5;124m'\u001B[39m\u001B[38;5;124m:\u001B[39m\u001B[38;5;124m'\u001B[39m)\n\u001B[1;32m      5\u001B[0m proxy_auth \u001B[38;5;241m=\u001B[39m BasicAuth(login\u001B[38;5;241m=\u001B[39mproxy_login, password\u001B[38;5;241m=\u001B[39mproxy_password)\n\u001B[0;32m----> 6\u001B[0m session \u001B[38;5;241m=\u001B[39m \u001B[43maiohttp\u001B[49m\u001B[38;5;241;43m.\u001B[39;49m\u001B[43mClientSession\u001B[49m\u001B[43m(\u001B[49m\u001B[43mproxy\u001B[49m\u001B[38;5;241;43m=\u001B[39;49m\u001B[43mproxy_url\u001B[49m\u001B[43m,\u001B[49m\u001B[43m \u001B[49m\u001B[43mproxy_auth\u001B[49m\u001B[38;5;241;43m=\u001B[39;49m\u001B[43mproxy_auth\u001B[49m\u001B[43m)\u001B[49m\n",
      "\u001B[0;31mTypeError\u001B[0m: ClientSession.__init__() got an unexpected keyword argument 'proxy'"
     ]
    }
   ],
   "source": [
    "\n",
    "proxy = \"94.137.90.59:50100@mikheyev9:aXUbosImHR\"\n",
    "domain, user_info = proxy.split('@')\n",
    "proxy_url = f'http://{domain}'\n",
    "proxy_login, proxy_password = user_info.split(':')\n",
    "proxy_auth = BasicAuth(login=proxy_login, password=proxy_password)\n",
    "session = aiohttp.ClientSession()"
   ]
  },
  {
   "cell_type": "code",
   "execution_count": 2,
   "metadata": {},
   "outputs": [],
   "source": [
    "from bs4 import BeautifulSoup\n",
    "from urllib.parse import urlencode\n"
   ]
  },
  {
   "cell_type": "code",
   "execution_count": 8,
   "metadata": {},
   "outputs": [
    {
     "name": "stdout",
     "output_type": "stream",
     "text": [
      "https://www.pga.gazprombank.ru:443/pages/?lang=ru&merch_id=GX7UWIRPT48ZMJE576NTKMP0ZI8TGS8U&back_url_s=https%3A%2F%2Ftickets.ska.ru%2Fpersonal-thank-you%2F1659913&back_url_f=https%3A%2F%2Ftickets.ska.ru%2Fview-orders-list&o.order_id=1659913&o.tickets_count=1&o.action_id=1933&SUBMIT=%D0%9F%D0%B5%D1%80%D0%B5%D0%B9%D1%82%D0%B8+%D0%BA+%D0%BE%D0%BF%D0%BB%D0%B0%D1%82%D0%B5\n"
     ]
    }
   ],
   "source": [
    "with open('TEST.html', 'r', encoding='utf-8') as f:\n",
    "    text = f.read()\n",
    "    soup = BeautifulSoup(text, 'lxml')\n",
    "    form_gazprombank = soup.find('form', attrs={'action':\"https://www.pga.gazprombank.ru:443/pages/\"})\n",
    "    lang = form_gazprombank.find('input', attrs={'name':'lang'}).get('value')\n",
    "    merch_id = form_gazprombank.find('input', attrs={'name':'merch_id'}).get('value')\n",
    "    back_url_s = form_gazprombank.find('input', attrs={'name':'back_url_s'}).get('value')\n",
    "    back_url_f = form_gazprombank.find('input', attrs={'name':'back_url_f'}).get('value')\n",
    "    order_id = form_gazprombank.find('input', attrs={'name':'o.order_id'}).get('value')\n",
    "    tickets_count = form_gazprombank.find('input', attrs={'name':'o.tickets_count'}).get('value')\n",
    "    action_id = form_gazprombank.find('input', attrs={'name':'o.action_id'}).get('value')\n",
    "    SUBMIT = form_gazprombank.find('input', attrs={'name':'SUBMIT'}).get('value')\n",
    "    \n",
    "    \n",
    "\n",
    "    url = \"https://www.pga.gazprombank.ru:443/pages/\"\n",
    "    params = {\n",
    "        \"lang\": lang,\n",
    "        \"merch_id\": merch_id,\n",
    "        \"back_url_s\": back_url_s,\n",
    "        \"back_url_f\": back_url_f,\n",
    "        \"o.order_id\": order_id,\n",
    "        \"o.tickets_count\": tickets_count,\n",
    "        \"o.action_id\": action_id,\n",
    "        \"SUBMIT\": SUBMIT\n",
    "    }\n",
    "    encoded_params = urlencode(params)\n",
    "    full_url = f\"https://www.pga.gazprombank.ru:443/pages/?{encoded_params}\"\n",
    "\n",
    "    print(full_url)"
   ]
  },
  {
   "cell_type": "code",
   "execution_count": 4,
   "metadata": {},
   "outputs": [],
   "source": [
    "with open('TEST.html', 'w', encoding='utf-8') as f:\n",
    "    f.write(response)"
   ]
  },
  {
   "cell_type": "code",
   "execution_count": 44,
   "metadata": {},
   "outputs": [
    {
     "data": {
      "text/plain": [
       "False"
      ]
     },
     "execution_count": 44,
     "metadata": {},
     "output_type": "execute_result"
    }
   ],
   "source": [
    "\n"
   ]
  },
  {
   "cell_type": "code",
   "execution_count": 22,
   "metadata": {},
   "outputs": [],
   "source": [
    "import requests\n",
    "session = requests.Session()\n",
    "r = session.get(url, headers=headers)"
   ]
  },
  {
   "cell_type": "code",
   "execution_count": 23,
   "metadata": {},
   "outputs": [
    {
     "data": {
      "text/plain": [
       "'<!DOCTYPE html>\\n<html lang=\"en\">\\n<head>\\n    <meta charset=\"UTF-8\">\\n    <meta name=\"viewport\" content=\"width=device-width, initial-scale=1, maximum-scale=1.0, user-scalable=no\">\\n    <link rel=\"apple-touch-icon\" sizes=\"57x57\" href=\"/favicon-set/apple-touch-icon-57x57.png\">\\n    <link rel=\"apple-touch-icon\" sizes=\"60x60\" href=\"/favicon-set/apple-touch-icon-60x60.png\">\\n    <link rel=\"apple-touch-icon\" sizes=\"72x72\" href=\"/favicon-set/apple-touch-icon-72x72.png\">\\n    <link rel=\"apple-touch-icon\" sizes=\"76x76\" href=\"/favicon-set/apple-touch-icon-76x76.png\">\\n    <link rel=\"apple-touch-icon\" sizes=\"114x114\" href=\"/favicon-set/apple-touch-icon-114x114.png\">\\n    <link rel=\"apple-touch-icon\" sizes=\"120x120\" href=\"/favicon-set/apple-touch-icon-120x120.png\">\\n    <link rel=\"apple-touch-icon\" sizes=\"144x144\" href=\"/favicon-set/apple-touch-icon-144x144.png\">\\n    <link rel=\"apple-touch-icon\" sizes=\"152x152\" href=\"/favicon-set/apple-touch-icon-152x152.png\">\\n    <link rel=\"apple-touch-icon\" sizes=\"180x180\" href=\"/favicon-set/apple-touch-icon-180x180.png\">\\n    <link rel=\"icon\" type=\"image/png\" sizes=\"32x32\" href=\"/favicon-set/favicon-32x32.png\">\\n    <link rel=\"icon\" type=\"image/png\" sizes=\"192x192\" href=\"/favicon-set/android-chrome-192x192.png\">\\n    <link rel=\"icon\" type=\"image/png\" sizes=\"16x16\" href=\"/favicon-set/favicon-16x16.png\">\\n    <link rel=\"mask-icon\" href=\"/favicon-set/safari-pinned-tab.svg\" color=\"#5bbad5\">\\n    <meta name=\"msapplication-TileColor\" content=\"#ffffff\">\\n    <meta name=\"msapplication-TileImage\" content=\"/favicon-set/mstile-144x144.png\">\\n    <meta name=\"theme-color\" content=\"#ffffff\">\\n    <meta name=\"csrf-param\" content=\"_csrf\">\\n<meta name=\"csrf-token\" content=\"nLU2c7kI9Wc8FOxIBdfOxONRNxX2OhqCVXOKZHOQkHKs2UEi4EyqClVz1CBKkviPlWIOJo5OK7A8J7tVHtqgHA==\">\\n    <title>Sign in</title>\\n    <link href=\"https://proxy.ska.ru/static/fonts/roboto/style.css\" rel=\"stylesheet\">\\n<link href=\"https://proxy.ska.ru/static/fontawesome/4.7.0/css/font-awesome.min.css\" rel=\"stylesheet\">\\n<link href=\"/build/build.min.css?v=1701953335\" rel=\"stylesheet\">    <!-- Global site tag (gtag.js) - Google Analytics -->\\n<script async src=\"https://www.googletagmanager.com/gtag/js?id=UA-19620142-22\"></script>\\n<script>\\n    window.dataLayer = window.dataLayer || [];\\n    function gtag(){dataLayer.push(arguments);}\\n    gtag(\\'js\\', new Date());\\n\\n    gtag(\\'config\\', \\'UA-19620142-22\\');\\n</script>\\n<!-- Yandex.Metrika counter -->\\n<script type=\"text/javascript\" >\\n    (function(m,e,t,r,i,k,a){m[i]=m[i]||function(){(m[i].a=m[i].a||[]).push(arguments)};\\n        m[i].l=1*new Date();k=e.createElement(t),a=e.getElementsByTagName(t)[0],k.async=1,k.src=r,a.parentNode.insertBefore(k,a)})\\n    (window, document, \"script\", \"https://mc.yandex.ru/metrika/tag.js\", \"ym\");\\n\\n    ym(49259176, \"init\", {\\n        id:49259176,\\n        clickmap:true,\\n        trackLinks:true,\\n        accurateTrackBounce:true,\\n        webvisor:true,\\n        trackHash:true\\n    });\\n</script>\\n<noscript><div><img src=\"https://mc.yandex.ru/watch/49259176\" style=\"position:absolute; left:-9999px;\" alt=\"\" /></div></noscript>\\n<!-- /Yandex.Metrika counter -->\\n<script type=\"text/javascript\">\\n    window.owaParams = {\\n        page_type: \\'lead\\' };\\n</script>\\n<script type=\"text/javascript\">\\n    setTimeout(function(){var d=document,t=\"script\",p=d.getElementsByTagName(t)[0],s=d.createElement(t);\\n        s.async=true;\\n        s.type=\"text/javascript\";\\n        s.src=\"http\"+(\"https:\"==d.location.protocol?\"s\":\"\")+\"://ssl.hurra.com/oti.js?cid=4379\";\\n        p.parentNode.insertBefore(s,p)},0);\\n</script>\\n</head>\\n<body>\\n<div class=\"page-wrap\">\\n    <header class=\"header\">\\n        <div class=\"container\">\\n            <div class=\"top-menu-container\">\\n                <div class=\"row\">\\n                    <div class=\"col-sm-7 hidden-xs hidden-sm\">\\n                        <ul class=\"top-menu\"><li><a href=\"https://www.ska.ru/en/?utm_source=pass&amp;utm_medium=main&amp;utm_campaign=menu\" target=\"_blank\">SKA</a></li>\\n<li><a href=\"https://shop.ska.ru/en/?utm_source=pass&amp;utm_medium=main&amp;utm_campaign=menu\" target=\"_blank\">Online Store</a></li>\\n<li><a href=\"https://tickets.ska.ru/en/?utm_source=pass&amp;utm_medium=main&amp;utm_campaign=menu\" target=\"_blank\">Tickets</a></li>\\n<li><a href=\"https://city.ska.ru/?utm_source=pass&amp;utm_medium=main&amp;utm_campaign=menu\" target=\"_blank\">Hockey City</a></li>\\n<li><a href=\"https://med.ska.ru/?utm_source=pass&amp;utm_medium=main&amp;utm_campaign=menu\" target=\"_blank\">SKA Medical Center</a></li>\\n<li><a href=\"http://redmachinecentre.ru/?utm_source=pass&amp;utm_medium=main&amp;utm_campaign=menu\" target=\"_blank\">Red Machine IHDC</a></li></ul>                    </div>\\n                    <div class=\"col-sm-2 hidden-xs hidden-sm\">\\n                        <div id=\"w0\" class=\"header-socials\"><a href=\"https://vk.com/ska\" target=\"_blank\"><i class=\"fa fa-vk\"></i></a>\\n<a href=\"https://www.youtube.com/user/hcskatv\" target=\"_blank\"><i class=\"fa fa-youtube-play\"></i></a></div>                    </div>\\n                    <div class=\"col-xs-7 col-md-2\">\\n                        <div class=\"header-controls\">\\n                            <div class=\"header-phone\"><a href=\"tel:88007750803\">8 (800) 775 - 08 - 03</a></div>\\n                            <div class=\"header-language\">\\n                                <a href=\"/ru/auth/?back_domain=tickets&amp;back_url=%2F/\">ru</a>                            </div>\\n                        </div>\\n                    </div>\\n                    <div class=\"col-xs-5 col-md-1\">\\n                        <div class=\"personal-link\"><a href=\"/en/auth/\"><span></span>Sign&nbsp;in</a></div>                    </div>\\n                </div>\\n            </div>\\n        </div>\\n    </header>\\n\\n    <div class=\"page-content inner-page-content\">\\n                    <div class=\"container\">\\n                <a class=\"go-back\" href=\"https://tickets.ska.ru/\"><span>←</span> Back</a><div class=\"page-form-wrap\">\\n    <div class=\"tabs-large\">\\n        <ul class=\"nav nav-tabs\">\\n            <li class=\"active\"><a href=\"/en/auth/\">Sign in</a></li>\\n            <li><a href=\"/en/registration/\">Create new account</a></li>\\n        </ul>\\n        <div class=\"tab-content\">\\n            <div class=\"tab-pane active\" id=\"auth_tab\">\\n                <div class=\"page-form\">\\n                    <div class=\"form-title-caption\">\\n                        <div class=\"socials-auth socials-auth-registration\">\\n\\t\\t\\t\\t\\t\\t\\tYou can sign in via:                            <div class=\"socials-auth-icons\">\\n                                <a href=\"#\" class=\"js-social\" data-value=\"vkid\" data-type=\"auth\">\\n                                    <div class=\"js-social-vkid\"></div>\\n                                </a>\\n                                <a href=\"#\" class=\"js-social\" data-value=\"yaid\" data-type=\"auth\">\\n                                    <div class=\"js-social-yaid\"></div>\\n                                </a>\\n                            </div>\\n                        </div>\\n                        <div class=\"js-for-social\"></div>\\n                    </div>\\n\\t\\t\\t\\t\\t                    <div id=\"auth_email\" class=\"js-auth-tab is--active\">\\n                        <form class=\"page-section-form active js-validate-parsley\" action=\"/en/auth/\" method=\"post\">\\n<input type=\"hidden\" name=\"_csrf\" value=\"nLU2c7kI9Wc8FOxIBdfOxONRNxX2OhqCVXOKZHOQkHKs2UEi4EyqClVz1CBKkviPlWIOJo5OK7A8J7tVHtqgHA==\">                        <div class=\"form-fields\">\\n                                                        <div class=\"form-group\">\\n                                <input type=\"text\" id=\"form-login\" name=\"login\" value=\"\" data-parsley-required=\"true\" data-parsley-type=\"email\" data-parsley-trigger=\"focusout\" data-parsley-whitespace=\"trim\" placeholder=\"E-mail\">                            </div>\\n                            <div class=\"form-group\">\\n                                <input type=\"password\" id=\"form-password\" name=\"password\" value=\"\" data-parsley-required=\"true\" data-parsley-trigger=\"focusout\" placeholder=\"Password\">                            </div>\\n                            <div class=\"row\">\\n                                <div class=\"col-md-6 col-md-push-6 form-btn\">\\n                                    <input type=\"hidden\" name=\"auth_type\" value=\"email\">                                    <input type=\"hidden\" name=\"send_submit\" value=\"Y\">                                    <button type=\"submit\" class=\"btn btn-red js-analytics\" data-category=\"auth_inner\" data-action=\"click\">Sign in</button>                                </div>\\n                                <div class=\"col-md-6 col-md-pull-6\">\\n                                    <div class=\"forget-pass\">\\n                                        <a href=\"/en/auth/forgot/\">Forgot password?</a>                                    </div>\\n                                </div>\\n                            </div>\\n                        </div>\\n                        </form>                    </div>\\n\\t\\t\\t\\t\\t                </div>\\n            </div>\\n        </div>\\n    </div>\\n</div>\\n            </div>\\n                </div>\\n\\n    <div class=\"footer-push\"></div>\\n    <footer class=\"footer\">\\n        <div class=\"container\">\\n            <div class=\"footer-content\">\\n                <div class=\"footer-bottom\">\\n                    <div class=\"row\">\\n                        <div class=\"col-md-2 col-md-push-2\">\\n                            <div id=\"w1\" class=\"footer-socials\"><a href=\"https://vk.com/ska\" target=\"_blank\"><i class=\"fa fa-vk\"></i></a>\\n<a href=\"https://www.youtube.com/user/hcskatv\" target=\"_blank\"><i class=\"fa fa-youtube-play\"></i></a></div>                            <div id=\"w2\" class=\"footer-socials footer-app\"><a href=\"https://itunes.apple.com/ru/app/хк-ска/id589531048?mt=8\" target=\"_blank\"><i class=\"fa fa-apple\"></i></a>\\n<a href=\"https://play.google.com/store/apps/details?id=com.ska\" target=\"_blank\"><i class=\"fa fa-android\"></i></a></div>                        </div>\\n                        <div class=\"col-md-8 col-md-push-2\">\\n                            <div class=\"row\">\\n                                <div class=\"col-md-7\">\\n                                    <div class=\"row\">\\n                                        <div class=\"col-md-6\">\\n                                            <div class=\"footer-title\">Contacts</div>\\n                                            <a href=\"tel:88007750803\" class=\"footer-phone\">8 (800) 775-08-03</a><br>\\n                                            <a href=\"https://support.ska.ru/?utm_source=pass&utm_medium=footer&utm_campaign=menu\" class=\"footer-email\" target=\"_blank\">support.ska.ru</a>\\n                                        </div>\\n                                        <div class=\"col-md-6\">\\n                                            <div class=\"footer-title\">Address</div>\\n                                            <div class=\"footer-text\">193231 Saint Petersburg<br>Rossiyskiy prospect,&nbsp;6, b.&nbsp;1</div>\\n                                        </div>\\n                                    </div>\\n                                </div>\\n                                <div class=\"col-md-5\">\\n                                    <div class=\"copyright\">\\n                                        <a href=\"https://www.ska.ru/doc/skapass.pdf?v=13112023\" target=\"_blank\"><nobr>SKA PASS</nobr> rules</a><br/>\\n                                        <a href=\"https://www.ska.ru/doc/privacy_policy.pdf?v=27122022\" target=\"_blank\">Privacy policy</a><br/>\\n                                        <a href=\"https://www.ska.ru/doc/data_processing_policy.pdf\" target=\"_blank\">Data processing policy</a><br/>\\n                                        <a href=\"https://www.ska.ru/doc/user_agreement.pdf\" target=\"_blank\">Terms of use</a><br/>\\n                                        <a href=\"https://www.ska.ru/doc/sector_ska_offer.pdf\" target=\"_blank\">Sector SKA offer</a>\\n                                    </div>\\n                                </div>\\n                            </div>\\n                        </div>\\n                        <div class=\"col-md-2 col-md-pull-10\">\\n                            <div class=\"footer-logo-container\">\\n                                <div class=\"footer-logo\">\\n                                    <img src=\"/images/logo-white.svg\" alt=\"\">                                </div>\\n                                <div class=\"footer-logo-link\">Copyright &copy; 2024</div>\\n                            </div>\\n                        </div>\\n                    </div>\\n                </div>\\n            </div>\\n        </div>\\n    </footer>\\n    <div class=\"cookies-banner\">\\n        <div class=\"container\">\\n            <div class=\"row\">\\n                <div class=\"col-sm-7 col-md-8\">We <a href=\"/doc/privacy_policy.pdf\" target=\"_blank\">use cookies</a> to ensure you get the best experience browsing our website. By continuing to use the site, you agree to the use of cookies.</div>\\n                <div class=\"col-sm-5 col-md-4\">\\n                    <button class=\"cookies-banner-button\" type=\"button\">I agree</button>\\n                </div>\\n            </div>\\n        </div>\\n    </div>\\n    <div class=\"page-loader\"><div class=\"lds-dual-ring\"></div></div>\\n</div>\\n<script src=\"/build/build-en.min.js?v=1702755999\"></script></body>\\n</html>\\n'"
      ]
     },
     "execution_count": 23,
     "metadata": {},
     "output_type": "execute_result"
    }
   ],
   "source": [
    "r.text"
   ]
  },
  {
   "cell_type": "code",
   "execution_count": 2,
   "metadata": {},
   "outputs": [
    {
     "name": "stdout",
     "output_type": "stream",
     "text": [
      "{1: 2, 2: 3}\n"
     ]
    }
   ],
   "source": [
    "box = {1:2}\n",
    "box[2] = box.get(2, 3) \n",
    "print(box)"
   ]
  },
  {
   "cell_type": "code",
   "execution_count": 4,
   "metadata": {},
   "outputs": [
    {
     "name": "stdout",
     "output_type": "stream",
     "text": [
      "s\n"
     ]
    }
   ],
   "source": [
    "if 4 in box.get(4, {}):\n",
    "    print('a')\n",
    "else:\n",
    "    print('s')"
   ]
  }
 ],
 "metadata": {
  "kernelspec": {
   "display_name": "bot",
   "language": "python",
   "name": "python3"
  },
  "language_info": {
   "codemirror_mode": {
    "name": "ipython",
    "version": 3
   },
   "file_extension": ".py",
   "mimetype": "text/x-python",
   "name": "python",
   "nbconvert_exporter": "python",
   "pygments_lexer": "ipython3",
   "version": "3.11.6"
  }
 },
 "nbformat": 4,
 "nbformat_minor": 2
}
