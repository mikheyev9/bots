{
 "cells": [
  {
   "cell_type": "code",
   "execution_count": null,
   "metadata": {},
   "outputs": [],
   "source": [
    "import aiohttp\n",
    "import asyncio\n",
    "from bs4 import BeautifulSoup\n",
    "from aiohttp import BasicAuth\n",
    "\n",
    "from bots.bots.tna import tickets"
   ]
  },
  {
   "cell_type": "code",
   "execution_count": 1,
   "outputs": [],
   "source": [
    "from tickets import Tickets"
   ],
   "metadata": {
    "collapsed": false,
    "ExecuteTime": {
     "end_time": "2024-03-17T07:57:31.688689099Z",
     "start_time": "2024-03-17T07:57:31.629444620Z"
    }
   }
  },
  {
   "cell_type": "code",
   "execution_count": 3,
   "outputs": [],
   "source": [
    "tick = Tickets('https://tickets.ska.ru/view-available-zones/2096')"
   ],
   "metadata": {
    "collapsed": false,
    "ExecuteTime": {
     "end_time": "2024-03-17T07:58:01.020515736Z",
     "start_time": "2024-03-17T07:58:01.018560500Z"
    }
   }
  },
  {
   "cell_type": "code",
   "execution_count": 11,
   "outputs": [],
   "source": [
    "box = await tick._update_all_free_sectors()"
   ],
   "metadata": {
    "collapsed": false,
    "ExecuteTime": {
     "end_time": "2024-03-17T08:04:56.206473063Z",
     "start_time": "2024-03-17T08:04:55.448839400Z"
    }
   }
  },
  {
   "cell_type": "code",
   "execution_count": null,
   "outputs": [],
   "source": [
    "print(box)"
   ],
   "metadata": {
    "collapsed": false
   }
  },
  {
   "cell_type": "code",
   "execution_count": 13,
   "outputs": [],
   "source": [
    "res = structure = {str(ticket['name']): {} for ticket in box}\n"
   ],
   "metadata": {
    "collapsed": false,
    "ExecuteTime": {
     "end_time": "2024-03-17T08:05:26.196284507Z",
     "start_time": "2024-03-17T08:05:26.192211598Z"
    }
   }
  },
  {
   "cell_type": "code",
   "execution_count": null,
   "outputs": [],
   "source": [
    "print(res)\n",
    "import json\n",
    "with open('try.json', 'w', encoding='utf-8') as write:\n",
    "    json.dump(res, write, indent=4, ensure_ascii=False)"
   ],
   "metadata": {
    "collapsed": false
   }
  },
  {
   "cell_type": "code",
   "execution_count": 19,
   "outputs": [],
   "source": [
    "data = \"\"\"\n",
    "itfvyvpsrc@rambler.ru\t2543428ZY0zV9\n",
    "crwuaegsvd@rambler.ru\t9347080LNeXCg\n",
    "xhzbfjzegs@rambler.ru\t932636162KSvy\n",
    "wzvsorifiq@rambler.ru\t1251477BFgmES\n",
    "rzzyugkfhz@rambler.ru\t6459854r06Wh0\n",
    "xorrbakcng@rambler.ru\t2239969KPWTgO\n",
    "utsrkkuojc@rambler.ru\t1093517fkAnSh\n",
    "njmaxakgmc@rambler.ru\t5844486enQAuC\n",
    "tvunlvbbxp@rambler.ru\t111623586cRHN\n",
    "hmzjmxmkfu@rambler.ru\t7181885G2kHCY\n",
    "evplrjzmcm@rambler.ru\t1057606UNFuG1\n",
    "sgvzoaprej@rambler.ru\t3994761wQv1Ju\n",
    "afaxnolgdx@rambler.ru\t1263609ZV2to6\n",
    "uoimostalq@rambler.ru\t1012854MRN6Sl\n",
    "blhulnhwvh@rambler.ru\t2872489uBUQkm\n",
    "dqpumixuim@rambler.ru\t5192559fShOfj\n",
    "amybylfacj@rambler.ru\t5316262GygElG\n",
    "pyeoyznuuo@rambler.ru\t2962084G6lvzA\n",
    "xiurpxftpg@rambler.ru\t04734355GxEEU\n",
    "osujyivscs@rambler.ru\t6288918bWcSA7\n",
    "gkewherdij@rambler.ru\t6834536Mc4pvu\n",
    "pavpyxnifb@rambler.ru\t1481430UugKJ9\n",
    "uevidlswem@rambler.ru\t9434264GElu76\n",
    "ntfhzkewyz@rambler.ru\t1002593rwFrjA\n",
    "ywkehrtuwy@rambler.ru\t8811495x3mErf\n",
    "rcocjhzlah@rambler.ru\t5121661QIYfRx\n",
    "ddgvwauidt@rambler.ru\t0825649NwOugy\n",
    "tlqdkdleyi@rambler.ru\t2388523VfvKgL\n",
    "tufxtjnjbu@rambler.ru\t9086710oxK3Ys\n",
    "lctwxrxfjd@rambler.ru\t89904878nCnfa\n",
    "fwkyoycton@rambler.ru\t3530267EeeC7U\n",
    "bjsfgfciey@rambler.ru\t0724542TexeLf\n",
    "udnbgiqzct@rambler.ru\t5720735ZLuLpb\n",
    "qvblxtbklq@rambler.ru\t0751897dhFBGT\n",
    "qgrmijzjcx@rambler.ru\t4530051SoO65k\n",
    "qbiyzeddso@rambler.ru\t0321556OrjVDo\n",
    "zjfknbvtjt@rambler.ru\t0748007SvzFMB\n",
    "jcuemnngek@rambler.ru\t3474464wuCi1B\n",
    "hivfigdclh@rambler.ru\t7495959XWwiet\n",
    "vqkdrbgdvx@rambler.ru\t6840049CU8k3o\n",
    "tjjrkeifsg@rambler.ru\t3467448pbXVNU\n",
    "pgaoluzbce@rambler.ru\t5101212DU4To6\n",
    "iogeiipkvb@rambler.ru\t59086905CBfcE\n",
    "xlgafsdugi@rambler.ru\t0835313kIyab0\n",
    "vyvyzxzzsv@rambler.ru\t6659930hkaElS\n",
    "nvysczvbro@rambler.ru\t9203466oDR9cB\n",
    "pzsertoemb@rambler.ru\t7635374iyFEAL\n",
    "okfoesppup@rambler.ru\t4098162B9Ximc\n",
    "znpokpclaj@rambler.ru\t5073670VQRLpE\n",
    "ifvmhtyzph@rambler.ru\t3493790D9CEAr\n",
    "pzdxjgvpiu@rambler.ru\t9874845KssyIk\n",
    "\"\"\"\n",
    "\n",
    "# Convert the string to a list of lines, then to a list of dictionaries\n",
    "converted = [{\"login\": line.split()[0], \"password\": line.split()[1]} for line in data.strip().split(\"\\n\")]\n",
    "import json\n",
    "with open('account1.json', 'w', encoding='utf-8') as write:\n",
    "    json.dump(converted, write, indent=2, ensure_ascii=False)\n"
   ],
   "metadata": {
    "collapsed": false,
    "ExecuteTime": {
     "end_time": "2024-03-17T11:28:22.009697413Z",
     "start_time": "2024-03-17T11:28:21.968702753Z"
    }
   }
  }
 ],
 "metadata": {
  "kernelspec": {
   "display_name": "bot",
   "language": "python",
   "name": "python3"
  },
  "language_info": {
   "codemirror_mode": {
    "name": "ipython",
    "version": 3
   },
   "file_extension": ".py",
   "mimetype": "text/x-python",
   "name": "python",
   "nbconvert_exporter": "python",
   "pygments_lexer": "ipython3",
   "version": "3.11.6"
  }
 },
 "nbformat": 4,
 "nbformat_minor": 2
}
